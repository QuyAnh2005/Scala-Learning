{
 "cells": [
  {
   "cell_type": "markdown",
   "id": "f308b728",
   "metadata": {},
   "source": [
    "# 1. Two types of variables\n",
    "\n",
    "In Scala, you declare variables using the var keyword for mutable variables or val for immutable variables.\n",
    "- `val`: Creates an immutable variable—like final in Java. You should always create a variable with val, unless there’s a reason you need a mutable variable.\n",
    "- `var`: Creates a mutable variable, and should only be used when a variable’s contents will change over time.\n",
    "\n",
    "In an application, a `val` can’t be reassigned. You’ll cause a compiler error if you try to reassign one:"
   ]
  },
  {
   "cell_type": "code",
   "execution_count": 4,
   "id": "c50b787a",
   "metadata": {},
   "outputs": [],
   "source": [
    "// Immutable\n",
    "val message = \"Hello World\"\n",
    "message = \"Hello World, my name is ...\" // \"reassignment to val\" error; this won’t compile"
   ]
  },
  {
   "cell_type": "markdown",
   "id": "a26f63a9",
   "metadata": {},
   "source": [
    "Conversely, a `var` can be reassigned:"
   ]
  },
  {
   "cell_type": "code",
   "execution_count": 3,
   "id": "b2dfad99",
   "metadata": {},
   "outputs": [
    {
     "data": {
      "text/html": [
       "<div class=\"jp-RenderedText\">\n",
       "<pre><code><span style=\"color: rgb(0, 187, 187)\"><span class=\"ansi-cyan-fg\">message</span></span>: <span style=\"color: rgb(0, 187, 0)\"><span class=\"ansi-green-fg\">String</span></span> = <span style=\"color: rgb(0, 187, 0)\"><span class=\"ansi-green-fg\">&quot;Hello World, my name is ...&quot;</span></span></code></pre>\n",
       "</div>"
      ],
      "text/plain": [
       "\u001b[36mmessage\u001b[39m: \u001b[32mString\u001b[39m = \u001b[32m\"Hello World, my name is ...\"\u001b[39m"
      ]
     },
     "metadata": {},
     "output_type": "display_data"
    }
   ],
   "source": [
    "var message = \"Hello World\"\n",
    "message = \"Hello World, my name is ...\""
   ]
  },
  {
   "cell_type": "markdown",
   "id": "7b8cd2e6",
   "metadata": {},
   "source": [
    "# 2. Declaring variable types\n",
    "\n",
    "When you create a variable you can explicitly declare its type, or let the compiler infer the type:"
   ]
  },
  {
   "cell_type": "code",
   "execution_count": 5,
   "id": "b4cadb5e",
   "metadata": {},
   "outputs": [
    {
     "data": {
      "text/plain": [
       "\u001b[36mx\u001b[39m: \u001b[32mInt\u001b[39m = \u001b[32m1\u001b[39m"
      ]
     },
     "execution_count": 5,
     "metadata": {},
     "output_type": "execute_result"
    }
   ],
   "source": [
    "val x: Int = 1   // explicit"
   ]
  },
  {
   "cell_type": "code",
   "execution_count": 6,
   "id": "c032fe9c",
   "metadata": {},
   "outputs": [
    {
     "data": {
      "text/plain": [
       "\u001b[36mx\u001b[39m: \u001b[32mInt\u001b[39m = \u001b[32m1\u001b[39m"
      ]
     },
     "execution_count": 6,
     "metadata": {},
     "output_type": "execute_result"
    }
   ],
   "source": [
    "val x = 1   // implicit; the compiler infers the type"
   ]
  },
  {
   "cell_type": "markdown",
   "id": "12fe6fa5",
   "metadata": {},
   "source": [
    "The second form is known as type inference, and it’s a great way to help keep this type of code concise. The Scala compiler can usually infer the data type for you:"
   ]
  },
  {
   "cell_type": "code",
   "execution_count": 8,
   "id": "b4398a31",
   "metadata": {},
   "outputs": [
    {
     "data": {
      "text/plain": [
       "\u001b[36mx\u001b[39m: \u001b[32mInt\u001b[39m = \u001b[32m1\u001b[39m\n",
       "\u001b[36ms\u001b[39m: \u001b[32mString\u001b[39m = \u001b[32m\"a string\"\u001b[39m\n",
       "\u001b[36mnums\u001b[39m: \u001b[32mList\u001b[39m[\u001b[32mInt\u001b[39m] = \u001b[33mList\u001b[39m(\u001b[32m1\u001b[39m, \u001b[32m2\u001b[39m, \u001b[32m3\u001b[39m)"
      ]
     },
     "execution_count": 8,
     "metadata": {},
     "output_type": "execute_result"
    }
   ],
   "source": [
    "val x: Int = 1\n",
    "val s: String = \"a string\"\n",
    "val nums = List(1, 2, 3)"
   ]
  },
  {
   "cell_type": "markdown",
   "id": "49da66ef",
   "metadata": {},
   "source": [
    "You can always explicitly declare a variable’s type if you prefer, but in simple assignments like these it isn’t necessary:"
   ]
  },
  {
   "cell_type": "code",
   "execution_count": 9,
   "id": "b3b03f18",
   "metadata": {},
   "outputs": [
    {
     "data": {
      "text/plain": [
       "\u001b[36mx\u001b[39m: \u001b[32mInt\u001b[39m = \u001b[32m1\u001b[39m\n",
       "\u001b[36ms\u001b[39m: \u001b[32mString\u001b[39m = \u001b[32m\"a string\"\u001b[39m\n",
       "\u001b[36mnums\u001b[39m: \u001b[32mList\u001b[39m[\u001b[32mInt\u001b[39m] = \u001b[33mList\u001b[39m(\u001b[32m1\u001b[39m, \u001b[32m2\u001b[39m, \u001b[32m3\u001b[39m)"
      ]
     },
     "execution_count": 9,
     "metadata": {},
     "output_type": "execute_result"
    }
   ],
   "source": [
    "val x: Int = 1\n",
    "val s: String = \"a string\"\n",
    "val nums: List[Int] = List(1, 2, 3)"
   ]
  },
  {
   "cell_type": "markdown",
   "id": "741f4cba",
   "metadata": {},
   "source": [
    "# 3. Built-in data types\n",
    "\n",
    "Scala comes with the standard numeric data types you’d expect, and they’re all full-blown instances of classes. In Scala, everything is an object.\n",
    "\n",
    "These examples show how to declare variables of the numeric types:"
   ]
  },
  {
   "cell_type": "code",
   "execution_count": 12,
   "id": "56f80613",
   "metadata": {},
   "outputs": [
    {
     "data": {
      "text/plain": [
       "\u001b[36mb\u001b[39m: \u001b[32mByte\u001b[39m = \u001b[32m1\u001b[39m\n",
       "\u001b[36mi\u001b[39m: \u001b[32mInt\u001b[39m = \u001b[32m1\u001b[39m\n",
       "\u001b[36ml\u001b[39m: \u001b[32mLong\u001b[39m = \u001b[32m1L\u001b[39m\n",
       "\u001b[36ms\u001b[39m: \u001b[32mShort\u001b[39m = \u001b[32m1\u001b[39m\n",
       "\u001b[36md\u001b[39m: \u001b[32mDouble\u001b[39m = \u001b[32m2.0\u001b[39m\n",
       "\u001b[36mf\u001b[39m: \u001b[32mFloat\u001b[39m = \u001b[32m3.0F\u001b[39m"
      ]
     },
     "execution_count": 12,
     "metadata": {},
     "output_type": "execute_result"
    }
   ],
   "source": [
    "val b: Byte = 1\n",
    "val i: Int = 1\n",
    "val l: Long = 1\n",
    "val s: Short = 1\n",
    "val d: Double = 2.0\n",
    "val f: Float = 3.0f"
   ]
  },
  {
   "cell_type": "markdown",
   "id": "7a192a2e",
   "metadata": {},
   "source": [
    "### String\n",
    "Scala strings are similar to Java strings, but they have two great additional features:\n",
    "\n",
    "- They support string interpolation\n",
    "- It’s easy to create multiline strings"
   ]
  },
  {
   "cell_type": "code",
   "execution_count": 15,
   "id": "6d6a0276",
   "metadata": {},
   "outputs": [
    {
     "name": "stdout",
     "output_type": "stream",
     "text": [
      "Name: Dang Quy Anh\n",
      "Name: Dang Quy Anh"
     ]
    },
    {
     "data": {
      "text/plain": [
       "\u001b[36mfirstName\u001b[39m: \u001b[32mString\u001b[39m = \u001b[32m\"Dang\"\u001b[39m\n",
       "\u001b[36mmid\u001b[39m: \u001b[32mString\u001b[39m = \u001b[32m\"Quy\"\u001b[39m\n",
       "\u001b[36mlastName\u001b[39m: \u001b[32mString\u001b[39m = \u001b[32m\"Anh\"\u001b[39m"
      ]
     },
     "execution_count": 15,
     "metadata": {},
     "output_type": "execute_result"
    }
   ],
   "source": [
    "// String interpolation provides a very readable way to use variables inside strings. \n",
    "// For instance, given these three variables\n",
    "\n",
    "val firstName = \"Dang\"\n",
    "val mid = \"Quy\"\n",
    "val lastName = \"Anh\"\n",
    "\n",
    "println(s\"Name: $firstName $mid $lastName\")\n",
    "printf(f\"Name: $firstName $mid $lastName\")"
   ]
  },
  {
   "cell_type": "markdown",
   "id": "fd094559",
   "metadata": {},
   "source": [
    "Just precede the string with the letter `s`, and then put a `$` symbol before your variable names inside the string. The `s` that you place before the string is just one possible interpolator. If you use an `f` instead of an `s`, you can use printf-style formatting syntax in the string. Furthermore, a string interpolator is just a special method and it is possible to define your own."
   ]
  },
  {
   "cell_type": "code",
   "execution_count": 18,
   "id": "22eac700",
   "metadata": {},
   "outputs": [
    {
     "data": {
      "text/plain": [
       "\u001b[36mquote\u001b[39m: \u001b[32mString\u001b[39m = \u001b[32m\"\"\"Hello\n",
       "               My name is Quy Anh\n",
       "               I am an Data Scientist.\"\"\"\u001b[39m"
      ]
     },
     "execution_count": 18,
     "metadata": {},
     "output_type": "execute_result"
    }
   ],
   "source": [
    "// Multiline strings are created by including the string inside three double-quotes\n",
    "\n",
    "val quote = \"\"\"Hello\n",
    "               My name is Quy Anh\n",
    "               I am an Data Scientist.\"\"\""
   ]
  },
  {
   "cell_type": "code",
   "execution_count": null,
   "id": "9d7cfb87",
   "metadata": {},
   "outputs": [],
   "source": []
  }
 ],
 "metadata": {
  "kernelspec": {
   "display_name": "Scala",
   "language": "scala",
   "name": "scala"
  },
  "language_info": {
   "codemirror_mode": "text/x-scala",
   "file_extension": ".sc",
   "mimetype": "text/x-scala",
   "name": "scala",
   "nbconvert_exporter": "script",
   "version": "2.13.11"
  },
  "latex_envs": {
   "LaTeX_envs_menu_present": true,
   "autoclose": false,
   "autocomplete": true,
   "bibliofile": "biblio.bib",
   "cite_by": "apalike",
   "current_citInitial": 1,
   "eqLabelWithNumbers": true,
   "eqNumInitial": 1,
   "hotkeys": {
    "equation": "Ctrl-E",
    "itemize": "Ctrl-I"
   },
   "labels_anchors": false,
   "latex_user_defs": false,
   "report_style_numbering": false,
   "user_envs_cfg": false
  }
 },
 "nbformat": 4,
 "nbformat_minor": 5
}
