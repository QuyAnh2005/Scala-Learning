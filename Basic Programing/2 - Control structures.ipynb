{
 "cells": [
  {
   "cell_type": "markdown",
   "id": "74e49a2d",
   "metadata": {},
   "source": [
    "# Control structures\n",
    "\n",
    "Scala has the control structures you find in other programming languages, and also has powerful `for` expressions and `match` expressions:\n",
    "\n",
    "- `if/else`\n",
    "- `for` loops and expressions\n",
    "- `match` expressions\n",
    "- `while` loops\n",
    "- `try/catch`\n",
    "\n",
    "## 1. `if/else`"
   ]
  },
  {
   "cell_type": "code",
   "execution_count": 1,
   "id": "96503606",
   "metadata": {},
   "outputs": [
    {
     "name": "stdout",
     "output_type": "stream",
     "text": [
      "positive\n"
     ]
    },
    {
     "data": {
      "text/plain": [
       "\u001b[36mx\u001b[39m: \u001b[32mInt\u001b[39m = \u001b[32m1\u001b[39m"
      ]
     },
     "execution_count": 1,
     "metadata": {},
     "output_type": "execute_result"
    }
   ],
   "source": [
    "val x = 1\n",
    "\n",
    "if x < 0 then\n",
    "    println(\"negative\")\n",
    "else if x == 0 then\n",
    "    println(\"zero\")\n",
    "else\n",
    "    println(\"positive\")"
   ]
  },
  {
   "cell_type": "markdown",
   "id": "6a0e0355",
   "metadata": {},
   "source": [
    "Note that this really is an expression - not a statement. This means that it returns a value, so you can assign the result to a variable:"
   ]
  },
  {
   "cell_type": "code",
   "execution_count": 2,
   "id": "4df5009a",
   "metadata": {},
   "outputs": [
    {
     "data": {
      "text/plain": [
       "\u001b[36ma\u001b[39m: \u001b[32mInt\u001b[39m = \u001b[32m2\u001b[39m\n",
       "\u001b[36mb\u001b[39m: \u001b[32mInt\u001b[39m = \u001b[32m3\u001b[39m\n",
       "\u001b[36mx\u001b[39m: \u001b[32mInt\u001b[39m = \u001b[32m2\u001b[39m"
      ]
     },
     "execution_count": 2,
     "metadata": {},
     "output_type": "execute_result"
    }
   ],
   "source": [
    "val a = 2\n",
    "val b = 3\n",
    "\n",
    "val x = if a < b then a else b"
   ]
  },
  {
   "cell_type": "markdown",
   "id": "3b87b904",
   "metadata": {},
   "source": [
    "## 2. `for` loops and expressions\n",
    "\n",
    "The `for` keyword is used to create a `for` loop. This example shows how to print every element in a `List`:"
   ]
  },
  {
   "cell_type": "code",
   "execution_count": 3,
   "id": "3ba7b652",
   "metadata": {},
   "outputs": [
    {
     "name": "stdout",
     "output_type": "stream",
     "text": [
      "1\n",
      "2\n",
      "3\n",
      "4\n",
      "5\n"
     ]
    },
    {
     "data": {
      "text/plain": [
       "\u001b[36mints\u001b[39m: \u001b[32mList\u001b[39m[\u001b[32mInt\u001b[39m] = \u001b[33mList\u001b[39m(\u001b[32m1\u001b[39m, \u001b[32m2\u001b[39m, \u001b[32m3\u001b[39m, \u001b[32m4\u001b[39m, \u001b[32m5\u001b[39m)"
      ]
     },
     "execution_count": 3,
     "metadata": {},
     "output_type": "execute_result"
    }
   ],
   "source": [
    "val ints = List(1, 2, 3, 4, 5)\n",
    "\n",
    "for i <- ints do println(i)"
   ]
  },
  {
   "cell_type": "markdown",
   "id": "3a7b20e8",
   "metadata": {},
   "source": [
    "The code `i <- ints` is referred to as a `generator`, and the code that follows the `do` keyword is the body of the loop.\n",
    "\n",
    "### Guards\n",
    "You can also use one or more `if` expressions inside a `for` loop. These are referred to as `guards`. This example prints all of the numbers in ints that are greater than 2:"
   ]
  },
  {
   "cell_type": "code",
   "execution_count": 4,
   "id": "96e5d88a",
   "metadata": {},
   "outputs": [
    {
     "name": "stdout",
     "output_type": "stream",
     "text": [
      "3\n",
      "4\n",
      "5\n"
     ]
    }
   ],
   "source": [
    "for\n",
    "    i <- ints\n",
    "    if i > 2\n",
    "do\n",
    "    println(i)"
   ]
  },
  {
   "cell_type": "markdown",
   "id": "65360bfd",
   "metadata": {},
   "source": [
    "You can use multiple generators and guards. This loop iterates over the numbers `1` to `3`, and for each number it also iterates over the characters `a` to `c`. However, it also has two guards, so the only time the print statement is called is when `i` has the value `2` and `j` is the character `b`:"
   ]
  },
  {
   "cell_type": "code",
   "execution_count": 5,
   "id": "a0c8b9d1",
   "metadata": {},
   "outputs": [
    {
     "name": "stdout",
     "output_type": "stream",
     "text": [
      "i = 2, j = b\n"
     ]
    }
   ],
   "source": [
    "for\n",
    "  i <- 1 to 3\n",
    "  j <- 'a' to 'c'\n",
    "  if i == 2\n",
    "  if j == 'b'\n",
    "do\n",
    "  println(s\"i = $i, j = $j\")   // prints: \"i = 2, j = b\""
   ]
  },
  {
   "cell_type": "markdown",
   "id": "7d88f6ca",
   "metadata": {},
   "source": [
    "### for expressions\n",
    "\n",
    "The `for` keyword has even more power: When you use the `yield` keyword instead of `do`, you create `for` expressions which are used to calculate and yield results.\n",
    "\n",
    "A few examples demonstrate this. Using the same `ints` list as the previous example, this code creates a new list, where the value of each element in the new list is twice the value of the elements in the original list:"
   ]
  },
  {
   "cell_type": "code",
   "execution_count": 6,
   "id": "516be1a8",
   "metadata": {},
   "outputs": [
    {
     "data": {
      "text/plain": [
       "\u001b[36mdoubles\u001b[39m: \u001b[32mList\u001b[39m[\u001b[32mInt\u001b[39m] = \u001b[33mList\u001b[39m(\u001b[32m2\u001b[39m, \u001b[32m4\u001b[39m, \u001b[32m6\u001b[39m, \u001b[32m8\u001b[39m, \u001b[32m10\u001b[39m)"
      ]
     },
     "execution_count": 6,
     "metadata": {},
     "output_type": "execute_result"
    }
   ],
   "source": [
    "val doubles = for i <- ints yield i * 2"
   ]
  },
  {
   "cell_type": "markdown",
   "id": "c9159c12",
   "metadata": {},
   "source": [
    "Scala’s control structure syntax is flexible, and that `for` expression can be written in several other ways, depending on your preference:"
   ]
  },
  {
   "cell_type": "code",
   "execution_count": 7,
   "id": "72a2a526",
   "metadata": {},
   "outputs": [
    {
     "data": {
      "text/plain": [
       "\u001b[36mdoubles\u001b[39m: \u001b[32mList\u001b[39m[\u001b[32mInt\u001b[39m] = \u001b[33mList\u001b[39m(\u001b[32m2\u001b[39m, \u001b[32m4\u001b[39m, \u001b[32m6\u001b[39m, \u001b[32m8\u001b[39m, \u001b[32m10\u001b[39m)"
      ]
     },
     "execution_count": 7,
     "metadata": {},
     "output_type": "execute_result"
    }
   ],
   "source": [
    "val doubles = for i <- ints yield i * 2     // style shown above"
   ]
  },
  {
   "cell_type": "code",
   "execution_count": 8,
   "id": "b0f595d1",
   "metadata": {},
   "outputs": [
    {
     "data": {
      "text/plain": [
       "\u001b[36mdoubles\u001b[39m: \u001b[32mList\u001b[39m[\u001b[32mInt\u001b[39m] = \u001b[33mList\u001b[39m(\u001b[32m2\u001b[39m, \u001b[32m4\u001b[39m, \u001b[32m6\u001b[39m, \u001b[32m8\u001b[39m, \u001b[32m10\u001b[39m)"
      ]
     },
     "execution_count": 8,
     "metadata": {},
     "output_type": "execute_result"
    }
   ],
   "source": [
    "val doubles = for (i <- ints) yield i * 2"
   ]
  },
  {
   "cell_type": "code",
   "execution_count": 9,
   "id": "005464d3",
   "metadata": {},
   "outputs": [
    {
     "data": {
      "text/plain": [
       "\u001b[36mdoubles\u001b[39m: \u001b[32mList\u001b[39m[\u001b[32mInt\u001b[39m] = \u001b[33mList\u001b[39m(\u001b[32m2\u001b[39m, \u001b[32m4\u001b[39m, \u001b[32m6\u001b[39m, \u001b[32m8\u001b[39m, \u001b[32m10\u001b[39m)"
      ]
     },
     "execution_count": 9,
     "metadata": {},
     "output_type": "execute_result"
    }
   ],
   "source": [
    "val doubles = for (i <- ints) yield (i * 2)"
   ]
  },
  {
   "cell_type": "code",
   "execution_count": 10,
   "id": "0e2d7f10",
   "metadata": {},
   "outputs": [
    {
     "data": {
      "text/plain": [
       "\u001b[36mdoubles\u001b[39m: \u001b[32mList\u001b[39m[\u001b[32mInt\u001b[39m] = \u001b[33mList\u001b[39m(\u001b[32m2\u001b[39m, \u001b[32m4\u001b[39m, \u001b[32m6\u001b[39m, \u001b[32m8\u001b[39m, \u001b[32m10\u001b[39m)"
      ]
     },
     "execution_count": 10,
     "metadata": {},
     "output_type": "execute_result"
    }
   ],
   "source": [
    "val doubles = for { i <- ints } yield (i * 2)"
   ]
  },
  {
   "cell_type": "markdown",
   "id": "1b0e406d",
   "metadata": {},
   "source": [
    "This example shows how to capitalize the first character in each string in the list:"
   ]
  },
  {
   "cell_type": "code",
   "execution_count": 11,
   "id": "2f08fcba",
   "metadata": {},
   "outputs": [
    {
     "data": {
      "text/plain": [
       "\u001b[36mnames\u001b[39m: \u001b[32mList\u001b[39m[\u001b[32mString\u001b[39m] = \u001b[33mList\u001b[39m(\u001b[32m\"chris\"\u001b[39m, \u001b[32m\"ed\"\u001b[39m, \u001b[32m\"maurice\"\u001b[39m)\n",
       "\u001b[36mcapNames\u001b[39m: \u001b[32mList\u001b[39m[\u001b[32mString\u001b[39m] = \u001b[33mList\u001b[39m(\u001b[32m\"Chris\"\u001b[39m, \u001b[32m\"Ed\"\u001b[39m, \u001b[32m\"Maurice\"\u001b[39m)"
      ]
     },
     "execution_count": 11,
     "metadata": {},
     "output_type": "execute_result"
    }
   ],
   "source": [
    "val names = List(\"chris\", \"ed\", \"maurice\")\n",
    "val capNames = for name <- names yield name.capitalize"
   ]
  },
  {
   "cell_type": "markdown",
   "id": "a0e306e5",
   "metadata": {},
   "source": [
    "## 3. `match` expressions\n",
    "\n",
    "Scala has a `match` expression, which in its most basic use is like a Java `switch` statement:"
   ]
  },
  {
   "cell_type": "code",
   "execution_count": 12,
   "id": "cb717fdb",
   "metadata": {},
   "outputs": [
    {
     "name": "stdout",
     "output_type": "stream",
     "text": [
      "one\n"
     ]
    },
    {
     "data": {
      "text/plain": [
       "\u001b[36mi\u001b[39m: \u001b[32mInt\u001b[39m = \u001b[32m1\u001b[39m"
      ]
     },
     "execution_count": 12,
     "metadata": {},
     "output_type": "execute_result"
    }
   ],
   "source": [
    "val i = 1\n",
    "\n",
    "// later in the code ...\n",
    "i match\n",
    "    case 1 => println(\"one\")\n",
    "    case 2 => println(\"two\")\n",
    "    case _ => println(\"other\")"
   ]
  },
  {
   "cell_type": "markdown",
   "id": "b844d10c",
   "metadata": {},
   "source": [
    "However, `match` really is an expression, meaning that it returns a result based on the pattern match, which you can bind to a variable:"
   ]
  },
  {
   "cell_type": "code",
   "execution_count": 13,
   "id": "4e46d338",
   "metadata": {},
   "outputs": [
    {
     "data": {
      "text/plain": [
       "\u001b[36mresult\u001b[39m: \u001b[32mString\u001b[39m = \u001b[32m\"one\"\u001b[39m"
      ]
     },
     "execution_count": 13,
     "metadata": {},
     "output_type": "execute_result"
    }
   ],
   "source": [
    "val result = i match\n",
    "    case 1 => \"one\"\n",
    "    case 2 => \"two\"\n",
    "    case _ => \"other\""
   ]
  },
  {
   "cell_type": "markdown",
   "id": "0ed89b91",
   "metadata": {},
   "source": [
    "`match` isn’t limited to working with just integer values, it can be used with any data type:"
   ]
  },
  {
   "cell_type": "code",
   "execution_count": 14,
   "id": "69e4525c",
   "metadata": {},
   "outputs": [
    {
     "name": "stdout",
     "output_type": "stream",
     "text": [
      "Data Science is my favorite field.\n"
     ]
    },
    {
     "data": {
      "text/plain": [
       "\u001b[36mfield\u001b[39m: \u001b[32mString\u001b[39m = \u001b[32m\"Data Science\"\u001b[39m"
      ]
     },
     "execution_count": 14,
     "metadata": {},
     "output_type": "execute_result"
    }
   ],
   "source": [
    "val field = \"Data Science\"\n",
    "\n",
    "// later in the code\n",
    "field match\n",
    "    case \"Data Science\" =>\n",
    "        println(s\"$field is my favorite field.\")\n",
    "\n",
    "    case \"Artifical Intelligence\" =>\n",
    "        println(s\"Data Science is subfield of $field.\")\n",
    "\n",
    "    case _ => println(\"What is your favorite field!\")"
   ]
  },
  {
   "cell_type": "markdown",
   "id": "8ca0bb1b",
   "metadata": {},
   "source": [
    "In fact, a `match` expression can be used to test a variable against many different types of patterns. This example shows (a) how to use a `match` expression as the body of a method, and (b) how to match all the different types shown:"
   ]
  },
  {
   "cell_type": "code",
   "execution_count": 15,
   "id": "6ad1fac3",
   "metadata": {},
   "outputs": [
    {
     "data": {
      "text/plain": [
       "defined \u001b[32mfunction\u001b[39m \u001b[36mgetClassAsString\u001b[39m\n",
       "\u001b[36mres15_1\u001b[39m: \u001b[32mString\u001b[39m = \u001b[32m\"Int\"\u001b[39m\n",
       "\u001b[36mres15_2\u001b[39m: \u001b[32mString\u001b[39m = \u001b[32m\"'hello' is a String\"\u001b[39m\n",
       "\u001b[36mres15_3\u001b[39m: \u001b[32mString\u001b[39m = \u001b[32m\"List\"\u001b[39m"
      ]
     },
     "execution_count": 15,
     "metadata": {},
     "output_type": "execute_result"
    }
   ],
   "source": [
    "// getClassAsString is a method that takes a single argument of any type.\n",
    "def getClassAsString(x: Matchable): String = x match\n",
    "  case s: String => s\"'$s' is a String\"\n",
    "  case i: Int => \"Int\"\n",
    "  case d: Double => \"Double\"\n",
    "  case l: List[?] => \"List\"\n",
    "  case _ => \"Unknown\"\n",
    "\n",
    "// examples\n",
    "getClassAsString(1)               // Int\n",
    "getClassAsString(\"hello\")         // 'hello' is a String\n",
    "getClassAsString(List(1, 2, 3))   // List"
   ]
  },
  {
   "cell_type": "markdown",
   "id": "a248a00b",
   "metadata": {},
   "source": [
    "The method `getClassAsString` takes as a parameter a value of type `Matchable`, which can be any type supporting pattern matching (some types don’t support pattern matching because this could break encapsulation)."
   ]
  },
  {
   "cell_type": "markdown",
   "id": "f698dd74",
   "metadata": {},
   "source": [
    "## 4. `while` loop\n",
    "\n",
    "Scala also has a `while` loop construct. Its one-line syntax looks like this:\n",
    "\n",
    "```\n",
    "while x >= 0 do x = f(x)\n",
    "```"
   ]
  },
  {
   "cell_type": "code",
   "execution_count": 16,
   "id": "8fcc6598",
   "metadata": {},
   "outputs": [
    {
     "name": "stdout",
     "output_type": "stream",
     "text": [
      "1\n",
      "2\n"
     ]
    },
    {
     "data": {
      "text/plain": [
       "\u001b[36mx\u001b[39m: \u001b[32mInt\u001b[39m = \u001b[32m3\u001b[39m"
      ]
     },
     "execution_count": 16,
     "metadata": {},
     "output_type": "execute_result"
    }
   ],
   "source": [
    "var x = 1\n",
    "\n",
    "while\n",
    "    x < 3\n",
    "do\n",
    "    println(x)\n",
    "    x += 1"
   ]
  },
  {
   "cell_type": "code",
   "execution_count": null,
   "id": "3d233673",
   "metadata": {},
   "outputs": [],
   "source": []
  }
 ],
 "metadata": {
  "kernelspec": {
   "display_name": "Scala",
   "language": "scala",
   "name": "scala"
  },
  "language_info": {
   "codemirror_mode": "text/x-scala",
   "file_extension": ".sc",
   "mimetype": "text/x-scala",
   "name": "scala",
   "nbconvert_exporter": "script",
   "version": "2.13.11"
  },
  "latex_envs": {
   "LaTeX_envs_menu_present": true,
   "autoclose": false,
   "autocomplete": true,
   "bibliofile": "biblio.bib",
   "cite_by": "apalike",
   "current_citInitial": 1,
   "eqLabelWithNumbers": true,
   "eqNumInitial": 1,
   "hotkeys": {
    "equation": "Ctrl-E",
    "itemize": "Ctrl-I"
   },
   "labels_anchors": false,
   "latex_user_defs": false,
   "report_style_numbering": false,
   "user_envs_cfg": false
  }
 },
 "nbformat": 4,
 "nbformat_minor": 5
}
