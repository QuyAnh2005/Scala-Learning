{
 "cells": [
  {
   "cell_type": "markdown",
   "id": "44ae281e",
   "metadata": {},
   "source": [
    "# Domain Modeling\n",
    "Scala supports both functional programming (FP) and object-oriented programming (OOP), as well as a fusion of the two paradigms. This notebook provides a quick overview of data modeling in OOP and FP.\n",
    "\n",
    "\n",
    "## 1. OOP Domain Modeling\n",
    "When writing code in an OOP style, your two main tools for data encapsulation are `traits` and `classes`.\n",
    "\n",
    "### 1.1 Traits\n",
    "Scala traits can be used as simple interfaces, but they can also contain abstract and concrete methods and fields, and they can have parameters, just like classes. They provide a great way for you to organize behaviors into small, modular units. Later, when you want to create concrete implementations of attributes and behaviors, classes and objects can extend traits, mixing in as many traits as needed to achieve the desired behavior.\n",
    "\n",
    "As an example of how to use traits as interfaces, here are three traits that define well-organized and modular behaviors for animals like dogs and cats:"
   ]
  },
  {
   "cell_type": "code",
   "execution_count": 2,
   "id": "10dbcfed",
   "metadata": {},
   "outputs": [
    {
     "data": {
      "text/plain": [
       "defined \u001b[32mtrait\u001b[39m \u001b[36mSpeaker\u001b[39m\n",
       "defined \u001b[32mtrait\u001b[39m \u001b[36mTailWagger\u001b[39m\n",
       "defined \u001b[32mtrait\u001b[39m \u001b[36mRunner\u001b[39m"
      ]
     },
     "execution_count": 2,
     "metadata": {},
     "output_type": "execute_result"
    }
   ],
   "source": [
    "trait Speaker:\n",
    "    def speak(): String  // has no body, so it’s abstract\n",
    "\n",
    "trait TailWagger:\n",
    "    def startTail(): Unit = println(\"tail is wagging\")\n",
    "    def stopTail(): Unit = println(\"tail is stopped\")\n",
    "\n",
    "trait Runner:\n",
    "    def startRunning(): Unit = println(\"I’m running\")\n",
    "    def stopRunning(): Unit = println(\"Stopped running\")"
   ]
  },
  {
   "cell_type": "markdown",
   "id": "4aa3ce9f",
   "metadata": {},
   "source": [
    "Given those traits, here’s a `Dog` class that extends all of those traits while providing a behavior for the abstract `speak` method:"
   ]
  },
  {
   "cell_type": "code",
   "execution_count": 3,
   "id": "3950f0c5",
   "metadata": {},
   "outputs": [
    {
     "data": {
      "text/plain": [
       "defined \u001b[32mclass\u001b[39m \u001b[36mDog\u001b[39m"
      ]
     },
     "execution_count": 3,
     "metadata": {},
     "output_type": "execute_result"
    }
   ],
   "source": [
    "class Dog(name: String) extends Speaker, TailWagger, Runner:\n",
    "    def speak(): String = \"Woof!\""
   ]
  },
  {
   "cell_type": "code",
   "execution_count": 7,
   "id": "0f0c88b4",
   "metadata": {},
   "outputs": [
    {
     "name": "stdout",
     "output_type": "stream",
     "text": [
      "Woof!\n"
     ]
    },
    {
     "data": {
      "text/plain": [
       "\u001b[36md\u001b[39m: \u001b[32mDog\u001b[39m = ammonite.$sess.cell3$Helper$Dog@2f875f2"
      ]
     },
     "execution_count": 7,
     "metadata": {},
     "output_type": "execute_result"
    }
   ],
   "source": [
    "// Example \n",
    "val d = Dog(\"Rover\")\n",
    "println(d.speak())      // prints \"Woof!\""
   ]
  },
  {
   "cell_type": "markdown",
   "id": "0c3f2060",
   "metadata": {},
   "source": [
    "Notice how the class extends the traits with the `extends` keyword.\n",
    "\n",
    "Similarly, here’s a `Cat` class that implements those same traits while also overriding two of the concrete methods it inherits:"
   ]
  },
  {
   "cell_type": "code",
   "execution_count": 4,
   "id": "4e462f39",
   "metadata": {},
   "outputs": [
    {
     "data": {
      "text/plain": [
       "defined \u001b[32mclass\u001b[39m \u001b[36mCat\u001b[39m"
      ]
     },
     "execution_count": 4,
     "metadata": {},
     "output_type": "execute_result"
    }
   ],
   "source": [
    "class Cat(name: String) extends Speaker, TailWagger, Runner:\n",
    "    def speak(): String = \"Meow\"\n",
    "    override def startRunning(): Unit = println(\"Yeah ... I don’t run\")\n",
    "    override def stopRunning(): Unit = println(\"No need to stop\")"
   ]
  },
  {
   "cell_type": "code",
   "execution_count": 8,
   "id": "5a68317f",
   "metadata": {},
   "outputs": [
    {
     "name": "stdout",
     "output_type": "stream",
     "text": [
      "Meow\n",
      "Yeah ... I don’t run\n",
      "No need to stop\n"
     ]
    },
    {
     "data": {
      "text/plain": [
       "\u001b[36mc\u001b[39m: \u001b[32mCat\u001b[39m = ammonite.$sess.cell4$Helper$Cat@43e62522"
      ]
     },
     "execution_count": 8,
     "metadata": {},
     "output_type": "execute_result"
    }
   ],
   "source": [
    "// Example \n",
    "val c = Cat(\"Morris\")\n",
    "println(c.speak())      // \"Meow\"\n",
    "c.startRunning()        // \"Yeah ... I don’t run\"\n",
    "c.stopRunning()         // \"No need to stop\""
   ]
  },
  {
   "cell_type": "markdown",
   "id": "4f2d299e",
   "metadata": {},
   "source": [
    "### 1.2 Classes\n",
    "Scala classes are used in OOP-style programming. Here’s an example of a class that models a “person.” In OOP fields are typically mutable, so `firstName` and `lastName` are both declared as `var` parameters:"
   ]
  },
  {
   "cell_type": "code",
   "execution_count": 9,
   "id": "619daf76",
   "metadata": {},
   "outputs": [
    {
     "name": "stdout",
     "output_type": "stream",
     "text": [
      "John\n",
      "John Legend\n"
     ]
    },
    {
     "data": {
      "text/plain": [
       "defined \u001b[32mclass\u001b[39m \u001b[36mPerson\u001b[39m\n",
       "\u001b[36mp\u001b[39m: \u001b[32mPerson\u001b[39m = ammonite.$sess.cell9$Helper$Person@1797deab"
      ]
     },
     "execution_count": 9,
     "metadata": {},
     "output_type": "execute_result"
    }
   ],
   "source": [
    "class Person(var firstName: String, var lastName: String):\n",
    "    def printFullName() = println(s\"$firstName $lastName\")\n",
    "\n",
    "val p = Person(\"John\", \"Stephens\")\n",
    "println(p.firstName)   // \"John\"\n",
    "p.lastName = \"Legend\"\n",
    "p.printFullName()      // \"John Legend\""
   ]
  },
  {
   "cell_type": "markdown",
   "id": "556fae9c",
   "metadata": {},
   "source": [
    "## 2. FP Domain Modeling\n",
    "When writing code in an FP style, you’ll use these concepts:\n",
    "- Algebraic Data Types to define the data\n",
    "- Traits for functionality on the data.\n",
    "\n",
    "### 2.1 Enumerations and Sum Types\n",
    "\n",
    "Sum types are one way to model algebraic data types (ADTs) in Scala.\n",
    "\n",
    "They are used when data can be represented with different choices.\n",
    "\n",
    "For instance, a pizza has three main attributes:\n",
    "- Crust size\n",
    "- Crust type\n",
    "- Toppings\n",
    "\n",
    "These are concisely modeled with enumerations, which are sum types that only contain singleton values:"
   ]
  },
  {
   "cell_type": "code",
   "execution_count": 10,
   "id": "89f55518",
   "metadata": {},
   "outputs": [
    {
     "data": {
      "text/plain": [
       "defined \u001b[32mclass\u001b[39m \u001b[36mCrustSize\u001b[39m\n",
       "defined \u001b[32mclass\u001b[39m \u001b[36mCrustType\u001b[39m\n",
       "defined \u001b[32mclass\u001b[39m \u001b[36mTopping\u001b[39m"
      ]
     },
     "execution_count": 10,
     "metadata": {},
     "output_type": "execute_result"
    }
   ],
   "source": [
    "enum CrustSize:\n",
    "    case Small, Medium, Large\n",
    "\n",
    "enum CrustType:\n",
    "    case Thin, Thick, Regular\n",
    "\n",
    "enum Topping:\n",
    "    case Cheese, Pepperoni, BlackOlives, GreenOlives, Onions"
   ]
  },
  {
   "cell_type": "markdown",
   "id": "36dc0b7d",
   "metadata": {},
   "source": [
    "Once you have an enumeration you can import its members as ordinary values:"
   ]
  },
  {
   "cell_type": "code",
   "execution_count": 11,
   "id": "0a540783",
   "metadata": {},
   "outputs": [
    {
     "name": "stdout",
     "output_type": "stream",
     "text": [
      "Small crust size\n",
      "Small crust size\n"
     ]
    },
    {
     "data": {
      "text/plain": [
       "\u001b[32mimport \u001b[39m\u001b[36mCrustSize.*\n",
       "\u001b[39m\n",
       "\u001b[36mcurrentCrustSize\u001b[39m: \u001b[32mCrustSize\u001b[39m = Small"
      ]
     },
     "execution_count": 11,
     "metadata": {},
     "output_type": "execute_result"
    }
   ],
   "source": [
    "import CrustSize.*\n",
    "val currentCrustSize = Small\n",
    "\n",
    "// enums in a `match` expression\n",
    "currentCrustSize match\n",
    "    case Small => println(\"Small crust size\")\n",
    "    case Medium => println(\"Medium crust size\")\n",
    "    case Large => println(\"Large crust size\")\n",
    "\n",
    "// enums in an `if` statement\n",
    "if currentCrustSize == Small then println(\"Small crust size\")"
   ]
  },
  {
   "cell_type": "markdown",
   "id": "0518717d",
   "metadata": {},
   "source": [
    "Here’s another example of how to create a sum type with Scala, this would not be called an enumeration because the `Succ` case has parameters:"
   ]
  },
  {
   "cell_type": "code",
   "execution_count": 12,
   "id": "8737c1a7",
   "metadata": {},
   "outputs": [
    {
     "data": {
      "text/plain": [
       "defined \u001b[32mclass\u001b[39m \u001b[36mNat\u001b[39m"
      ]
     },
     "execution_count": 12,
     "metadata": {},
     "output_type": "execute_result"
    }
   ],
   "source": [
    "enum Nat:\n",
    "    case Zero\n",
    "    case Succ(pred: Nat)"
   ]
  },
  {
   "cell_type": "markdown",
   "id": "4c2956b7",
   "metadata": {},
   "source": [
    "### 2.2 Product Types\n",
    "A product type is an algebraic data type (ADT) that only has one shape, for example a singleton object, represented in Scala by a `case` object; or an immutable structure with accessible fields, represented by a `case` class.\n",
    "\n",
    "A `case` class has all of the functionality of a `class`, and also has additional features baked in that make them useful for functional programming. When the compiler sees the `case` keyword in front of a `class` it has these effects and benefits:\n",
    "\n",
    "- Case class constructor parameters are public `val` fields by default, so the fields are immutable, and accessor methods are generated for each parameter.\n",
    "- An `unapply` method is generated, which lets you use case classes in more ways in `match` expressions.\n",
    "- A copy method is generated in the class. This provides a way to create updated copies of the object without changing the original object.\n",
    "- `equals` and `hashCode` methods are generated to implement structural equality.\n",
    "- A default `toString` method is generated, which is helpful for debugging.\n",
    "\n",
    "You can manually add all of those methods to a class yourself, but since those features are so commonly used in functional programming, using a case class is much more convenient.\n",
    "\n",
    "This code demonstrates several case class features:"
   ]
  },
  {
   "cell_type": "code",
   "execution_count": 13,
   "id": "01bc3547",
   "metadata": {},
   "outputs": [
    {
     "data": {
      "text/plain": [
       "defined \u001b[32mclass\u001b[39m \u001b[36mPerson\u001b[39m\n",
       "\u001b[36mp\u001b[39m: \u001b[32mPerson\u001b[39m = \u001b[33mPerson\u001b[39m(name = \u001b[32m\"Reginald Kenneth Dwight\"\u001b[39m, vocation = \u001b[32m\"Singer\"\u001b[39m)\n",
       "\u001b[36mres13_2\u001b[39m: \u001b[32mPerson\u001b[39m = \u001b[33mPerson\u001b[39m(name = \u001b[32m\"Reginald Kenneth Dwight\"\u001b[39m, vocation = \u001b[32m\"Singer\"\u001b[39m)"
      ]
     },
     "execution_count": 13,
     "metadata": {},
     "output_type": "execute_result"
    }
   ],
   "source": [
    "// define a case class\n",
    "case class Person(\n",
    "    name: String,\n",
    "    vocation: String\n",
    ")\n",
    "\n",
    "// create an instance of the case class\n",
    "val p = Person(\"Reginald Kenneth Dwight\", \"Singer\")\n",
    "\n",
    "// a good default toString method\n",
    "p                // : Person = Person(Reginald Kenneth Dwight,Singer)"
   ]
  },
  {
   "cell_type": "code",
   "execution_count": 14,
   "id": "d4af5f59",
   "metadata": {},
   "outputs": [
    {
     "data": {
      "text/plain": [
       "\u001b[36mres14\u001b[39m: \u001b[32mString\u001b[39m = \u001b[32m\"Reginald Kenneth Dwight\"\u001b[39m"
      ]
     },
     "execution_count": 14,
     "metadata": {},
     "output_type": "execute_result"
    }
   ],
   "source": [
    "// can access its fields, which are immutable\n",
    "p.name           // \"Reginald Kenneth Dwight\"\n",
    "// p.name = \"Joe\"   // error: can’t reassign a val field"
   ]
  },
  {
   "cell_type": "code",
   "execution_count": 15,
   "id": "320f24de",
   "metadata": {},
   "outputs": [
    {
     "data": {
      "text/plain": [
       "\u001b[36mp2\u001b[39m: \u001b[32mPerson\u001b[39m = \u001b[33mPerson\u001b[39m(name = \u001b[32m\"Elton John\"\u001b[39m, vocation = \u001b[32m\"Singer\"\u001b[39m)\n",
       "\u001b[36mres15_1\u001b[39m: \u001b[32mPerson\u001b[39m = \u001b[33mPerson\u001b[39m(name = \u001b[32m\"Elton John\"\u001b[39m, vocation = \u001b[32m\"Singer\"\u001b[39m)"
      ]
     },
     "execution_count": 15,
     "metadata": {},
     "output_type": "execute_result"
    }
   ],
   "source": [
    "// when you need to make a change, use the `copy` method\n",
    "// to “update as you copy”\n",
    "val p2 = p.copy(name = \"Elton John\")\n",
    "p2               // : Person = Person(Elton John,Singer)"
   ]
  },
  {
   "cell_type": "code",
   "execution_count": null,
   "id": "6e94daf2",
   "metadata": {},
   "outputs": [],
   "source": []
  }
 ],
 "metadata": {
  "kernelspec": {
   "display_name": "Scala",
   "language": "scala",
   "name": "scala"
  },
  "language_info": {
   "codemirror_mode": "text/x-scala",
   "file_extension": ".sc",
   "mimetype": "text/x-scala",
   "name": "scala",
   "nbconvert_exporter": "script",
   "version": "2.13.11"
  },
  "latex_envs": {
   "LaTeX_envs_menu_present": true,
   "autoclose": false,
   "autocomplete": true,
   "bibliofile": "biblio.bib",
   "cite_by": "apalike",
   "current_citInitial": 1,
   "eqLabelWithNumbers": true,
   "eqNumInitial": 1,
   "hotkeys": {
    "equation": "Ctrl-E",
    "itemize": "Ctrl-I"
   },
   "labels_anchors": false,
   "latex_user_defs": false,
   "report_style_numbering": false,
   "user_envs_cfg": false
  }
 },
 "nbformat": 4,
 "nbformat_minor": 5
}
