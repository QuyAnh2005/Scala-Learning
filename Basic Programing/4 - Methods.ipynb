{
 "cells": [
  {
   "cell_type": "markdown",
   "id": "f47ff3d4",
   "metadata": {},
   "source": [
    "## Methods\n",
    "\n",
    "Scala classes, case classes, traits, enums, and objects can all contain methods. The syntax of a simple method looks like this:\n",
    "\n",
    "```\n",
    "def methodName(param1: Type1, param2: Type2): ReturnType =\n",
    "    // the method body\n",
    "    // goes here\n",
    "```\n",
    "\n",
    "Here are a few examples:"
   ]
  },
  {
   "cell_type": "code",
   "execution_count": 1,
   "id": "64bbde51",
   "metadata": {},
   "outputs": [
    {
     "data": {
      "text/plain": [
       "defined \u001b[32mfunction\u001b[39m \u001b[36msum\u001b[39m\n",
       "defined \u001b[32mfunction\u001b[39m \u001b[36mconcatenate\u001b[39m"
      ]
     },
     "execution_count": 1,
     "metadata": {},
     "output_type": "execute_result"
    }
   ],
   "source": [
    "def sum(a: Int, b: Int): Int = a + b\n",
    "def concatenate(s1: String, s2: String): String = s1 + s2"
   ]
  },
  {
   "cell_type": "markdown",
   "id": "a3f5e57b",
   "metadata": {},
   "source": [
    "You don’t have to declare a method’s return type, so you can write those methods like this, if you prefer:"
   ]
  },
  {
   "cell_type": "code",
   "execution_count": 2,
   "id": "289bad60",
   "metadata": {},
   "outputs": [
    {
     "data": {
      "text/plain": [
       "defined \u001b[32mfunction\u001b[39m \u001b[36msum\u001b[39m\n",
       "defined \u001b[32mfunction\u001b[39m \u001b[36mconcatenate\u001b[39m"
      ]
     },
     "execution_count": 2,
     "metadata": {},
     "output_type": "execute_result"
    }
   ],
   "source": [
    "def sum(a: Int, b: Int) = a + b\n",
    "def concatenate(s1: String, s2: String) = s1 + s2"
   ]
  },
  {
   "cell_type": "code",
   "execution_count": 3,
   "id": "1c5a1827",
   "metadata": {},
   "outputs": [
    {
     "data": {
      "text/plain": [
       "\u001b[36mx\u001b[39m: \u001b[32mInt\u001b[39m = \u001b[32m3\u001b[39m\n",
       "\u001b[36my\u001b[39m: \u001b[32mString\u001b[39m = \u001b[32m\"foobar\"\u001b[39m"
      ]
     },
     "execution_count": 3,
     "metadata": {},
     "output_type": "execute_result"
    }
   ],
   "source": [
    "val x = sum(1, 2)\n",
    "val y = concatenate(\"foo\", \"bar\")"
   ]
  },
  {
   "cell_type": "markdown",
   "id": "36ced180",
   "metadata": {},
   "source": [
    "Method parameters can also have default values. In this example, the `timeout` parameter has a default value of `5000`:"
   ]
  },
  {
   "cell_type": "code",
   "execution_count": 4,
   "id": "8f0c8422",
   "metadata": {},
   "outputs": [
    {
     "data": {
      "text/plain": [
       "defined \u001b[32mfunction\u001b[39m \u001b[36mmakeConnection\u001b[39m"
      ]
     },
     "execution_count": 4,
     "metadata": {},
     "output_type": "execute_result"
    }
   ],
   "source": [
    "def makeConnection(url: String, timeout: Int = 5000): Unit =\n",
    "    println(s\"url=$url, timeout=$timeout\")"
   ]
  },
  {
   "cell_type": "markdown",
   "id": "294ed9af",
   "metadata": {},
   "source": [
    "Because a default `timeout` value is supplied in the method declaration, the method can be called in these two ways:"
   ]
  },
  {
   "cell_type": "code",
   "execution_count": 5,
   "id": "2f1902be",
   "metadata": {},
   "outputs": [
    {
     "name": "stdout",
     "output_type": "stream",
     "text": [
      "url=https://localhost, timeout=5000\n",
      "url=https://localhost, timeout=2500\n"
     ]
    }
   ],
   "source": [
    "makeConnection(\"https://localhost\")         // url=http://localhost, timeout=5000\n",
    "makeConnection(\"https://localhost\", 2500)   // url=http://localhost, timeout=2500"
   ]
  },
  {
   "cell_type": "markdown",
   "id": "e569b7d0",
   "metadata": {},
   "source": [
    "Scala also supports the use of named parameters when calling a method, so you can also call that method like this, if you prefer:"
   ]
  },
  {
   "cell_type": "code",
   "execution_count": 6,
   "id": "34143f11",
   "metadata": {},
   "outputs": [
    {
     "name": "stdout",
     "output_type": "stream",
     "text": [
      "url=https://localhost, timeout=2500\n"
     ]
    }
   ],
   "source": [
    "makeConnection(\n",
    "    url = \"https://localhost\",\n",
    "    timeout = 2500\n",
    ")"
   ]
  },
  {
   "cell_type": "markdown",
   "id": "5f4ec919",
   "metadata": {},
   "source": [
    "The `extension` keyword declares that you’re about to define one or more extension methods on the parameter that’s put in parentheses. As shown with this example, the parameter s of type `String` can then be used in the body of your extension methods.\n",
    "\n",
    "This next example shows how to add a `makeInt` method to the `String` class. Here, `makeInt` takes a parameter named `radix`. The code doesn’t account for possible string-to-integer conversion errors, but skipping that detail, the examples show how it works:"
   ]
  },
  {
   "cell_type": "code",
   "execution_count": 7,
   "id": "7e1648ec",
   "metadata": {},
   "outputs": [
    {
     "data": {
      "text/plain": [
       "defined \u001b[32mextension methods\u001b[39m \n",
       "\u001b[36mres7_1\u001b[39m: \u001b[32mInt\u001b[39m = \u001b[32m1\u001b[39m\n",
       "\u001b[36mres7_2\u001b[39m: \u001b[32mInt\u001b[39m = \u001b[32m2\u001b[39m\n",
       "\u001b[36mres7_3\u001b[39m: \u001b[32mInt\u001b[39m = \u001b[32m4\u001b[39m"
      ]
     },
     "execution_count": 7,
     "metadata": {},
     "output_type": "execute_result"
    }
   ],
   "source": [
    "extension (s: String)\n",
    "     def makeInt(radix: Int): Int = Integer.parseInt(s, radix)\n",
    "\n",
    "\"1\".makeInt(2)      // Int = 1\n",
    "\"10\".makeInt(2)     // Int = 2\n",
    "\"100\".makeInt(2)    // Int = 4"
   ]
  },
  {
   "cell_type": "code",
   "execution_count": null,
   "id": "a4bb2c85",
   "metadata": {},
   "outputs": [],
   "source": []
  }
 ],
 "metadata": {
  "kernelspec": {
   "display_name": "Scala",
   "language": "scala",
   "name": "scala"
  },
  "language_info": {
   "codemirror_mode": "text/x-scala",
   "file_extension": ".sc",
   "mimetype": "text/x-scala",
   "name": "scala",
   "nbconvert_exporter": "script",
   "version": "2.13.11"
  },
  "latex_envs": {
   "LaTeX_envs_menu_present": true,
   "autoclose": false,
   "autocomplete": true,
   "bibliofile": "biblio.bib",
   "cite_by": "apalike",
   "current_citInitial": 1,
   "eqLabelWithNumbers": true,
   "eqNumInitial": 1,
   "hotkeys": {
    "equation": "Ctrl-E",
    "itemize": "Ctrl-I"
   },
   "labels_anchors": false,
   "latex_user_defs": false,
   "report_style_numbering": false,
   "user_envs_cfg": false
  }
 },
 "nbformat": 4,
 "nbformat_minor": 5
}
