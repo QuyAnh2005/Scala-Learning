{
 "cells": [
  {
   "cell_type": "markdown",
   "id": "cd42156c",
   "metadata": {},
   "source": [
    "# First-class Functions\n",
    "\n",
    "Scala has most features you’d expect in a functional programming language, including:\n",
    "\n",
    "- Lambdas (anonymous functions)\n",
    "- Higher-order functions (HOFs)\n",
    "- Immutable collections in the standard library\n",
    "\n",
    "Lambdas, also known as anonymous functions, are a big part of keeping your code concise but readable.\n",
    "\n",
    "The `map` method of the `List` class is a typical example of a higher-order function - a function that takes a function as parameter.\n",
    "\n",
    "These two examples are equivalent, and show how to multiply each number in a list by `2` by passing a lambda into the `map` method:"
   ]
  },
  {
   "cell_type": "code",
   "execution_count": 1,
   "id": "3a141f86",
   "metadata": {},
   "outputs": [
    {
     "data": {
      "text/plain": [
       "\u001b[36ma\u001b[39m: \u001b[32mList\u001b[39m[\u001b[32mInt\u001b[39m] = \u001b[33mList\u001b[39m(\u001b[32m2\u001b[39m, \u001b[32m4\u001b[39m, \u001b[32m6\u001b[39m)\n",
       "\u001b[36mb\u001b[39m: \u001b[32mList\u001b[39m[\u001b[32mInt\u001b[39m] = \u001b[33mList\u001b[39m(\u001b[32m2\u001b[39m, \u001b[32m4\u001b[39m, \u001b[32m6\u001b[39m)"
      ]
     },
     "execution_count": 1,
     "metadata": {},
     "output_type": "execute_result"
    }
   ],
   "source": [
    "val a = List(1, 2, 3).map(i => i * 2)   // List(2,4,6)\n",
    "val b = List(1, 2, 3).map(_ * 2)        // List(2,4,6)"
   ]
  },
  {
   "cell_type": "markdown",
   "id": "1440e541",
   "metadata": {},
   "source": [
    "Those examples are also equivalent to the following code, which uses a `double` method instead of a lambda:"
   ]
  },
  {
   "cell_type": "code",
   "execution_count": 2,
   "id": "0ef6f977",
   "metadata": {},
   "outputs": [
    {
     "data": {
      "text/plain": [
       "defined \u001b[32mfunction\u001b[39m \u001b[36mdouble\u001b[39m\n",
       "\u001b[36ma\u001b[39m: \u001b[32mList\u001b[39m[\u001b[32mInt\u001b[39m] = \u001b[33mList\u001b[39m(\u001b[32m2\u001b[39m, \u001b[32m4\u001b[39m, \u001b[32m6\u001b[39m)\n",
       "\u001b[36mb\u001b[39m: \u001b[32mList\u001b[39m[\u001b[32mInt\u001b[39m] = \u001b[33mList\u001b[39m(\u001b[32m2\u001b[39m, \u001b[32m4\u001b[39m, \u001b[32m6\u001b[39m)"
      ]
     },
     "execution_count": 2,
     "metadata": {},
     "output_type": "execute_result"
    }
   ],
   "source": [
    "def double(i: Int): Int = i * 2\n",
    "\n",
    "val a = List(1, 2, 3).map(i => double(i))   // List(2,4,6)\n",
    "val b = List(1, 2, 3).map(double)           // List(2,4,6)"
   ]
  },
  {
   "cell_type": "markdown",
   "id": "01467202",
   "metadata": {},
   "source": [
    "**Immutable collections**\n",
    "\n",
    "When you work with immutable collections like `List`, `Vector`, and the immutable `Map` and `Set` classes, it’s important to know that these functions don’t mutate the collection they’re called on; instead, they return a new collection with the updated data. As a result, it’s also common to chain them together in a “fluent” style to solve problems.\n",
    "\n",
    "For instance, this example shows how to filter a collection twice, and then multiply each element in the remaining collection:"
   ]
  },
  {
   "cell_type": "code",
   "execution_count": 3,
   "id": "b6d2675d",
   "metadata": {},
   "outputs": [
    {
     "data": {
      "text/plain": [
       "\u001b[36mnums\u001b[39m: \u001b[32mList\u001b[39m[\u001b[32mInt\u001b[39m] = \u001b[33mList\u001b[39m(\u001b[32m1\u001b[39m, \u001b[32m2\u001b[39m, \u001b[32m3\u001b[39m, \u001b[32m4\u001b[39m, \u001b[32m5\u001b[39m, \u001b[32m6\u001b[39m, \u001b[32m7\u001b[39m, \u001b[32m8\u001b[39m, \u001b[32m9\u001b[39m, \u001b[32m10\u001b[39m)\n",
       "\u001b[36mx\u001b[39m: \u001b[32mList\u001b[39m[\u001b[32mInt\u001b[39m] = \u001b[33mList\u001b[39m(\u001b[32m40\u001b[39m, \u001b[32m50\u001b[39m, \u001b[32m60\u001b[39m)"
      ]
     },
     "execution_count": 3,
     "metadata": {},
     "output_type": "execute_result"
    }
   ],
   "source": [
    "// a sample list\n",
    "val nums = (1 to 10).toList   // List(1,2,3,4,5,6,7,8,9,10)\n",
    "\n",
    "// methods can be chained together as needed\n",
    "val x = nums.filter(_ > 3)\n",
    "            .filter(_ < 7)\n",
    "            .map(_ * 10)\n",
    "\n",
    "// result: x == List(40, 50, 60)"
   ]
  },
  {
   "cell_type": "code",
   "execution_count": null,
   "id": "0fe9efd5",
   "metadata": {},
   "outputs": [],
   "source": []
  }
 ],
 "metadata": {
  "kernelspec": {
   "display_name": "Scala",
   "language": "scala",
   "name": "scala"
  },
  "language_info": {
   "codemirror_mode": "text/x-scala",
   "file_extension": ".sc",
   "mimetype": "text/x-scala",
   "name": "scala",
   "nbconvert_exporter": "script",
   "version": "2.13.11"
  },
  "latex_envs": {
   "LaTeX_envs_menu_present": true,
   "autoclose": false,
   "autocomplete": true,
   "bibliofile": "biblio.bib",
   "cite_by": "apalike",
   "current_citInitial": 1,
   "eqLabelWithNumbers": true,
   "eqNumInitial": 1,
   "hotkeys": {
    "equation": "Ctrl-E",
    "itemize": "Ctrl-I"
   },
   "labels_anchors": false,
   "latex_user_defs": false,
   "report_style_numbering": false,
   "user_envs_cfg": false
  }
 },
 "nbformat": 4,
 "nbformat_minor": 5
}
