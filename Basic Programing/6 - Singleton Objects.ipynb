{
 "cells": [
  {
   "cell_type": "markdown",
   "id": "b9b972ca",
   "metadata": {},
   "source": [
    "# Singleton Objects\n",
    "\n",
    "In Scala, the `object` keyword creates a Singleton object. Put another way, an object defines a class that has exactly one instance.\n",
    "\n",
    "Objects have several uses:\n",
    "\n",
    "- They are used to create collections of utility methods.\n",
    "- A companion object is an object that has the same name as the class it shares a file with. In this situation, that class is also called a companion class.\n",
    "- They’re used to implement traits to create modules.\n",
    "\n",
    "**“Utility” methods**\n",
    "\n",
    "Because an object is a Singleton, its methods can be accessed like `static` methods in a Java class. For example, this `StringUtils` object contains a small collection of string-related methods:"
   ]
  },
  {
   "cell_type": "code",
   "execution_count": 1,
   "id": "6ff41fb9",
   "metadata": {},
   "outputs": [
    {
     "data": {
      "text/plain": [
       "defined \u001b[32mobject\u001b[39m \u001b[36mStringUtils\u001b[39m"
      ]
     },
     "execution_count": 1,
     "metadata": {},
     "output_type": "execute_result"
    }
   ],
   "source": [
    "object StringUtils:\n",
    "    def isNullOrEmpty(s: String): Boolean = s == null || s.trim.isEmpty\n",
    "    def leftTrim(s: String): String = s.replaceAll(\"^\\\\s+\", \"\")\n",
    "    def rightTrim(s: String): String = s.replaceAll(\"\\\\s+$\", \"\")"
   ]
  },
  {
   "cell_type": "markdown",
   "id": "c14db4df",
   "metadata": {},
   "source": [
    "Because `StringUtils` is a singleton, its methods can be called directly on the object:"
   ]
  },
  {
   "cell_type": "code",
   "execution_count": 2,
   "id": "df5c64fb",
   "metadata": {},
   "outputs": [
    {
     "data": {
      "text/plain": [
       "\u001b[36mx\u001b[39m: \u001b[32mBoolean\u001b[39m = \u001b[32mtrue\u001b[39m"
      ]
     },
     "execution_count": 2,
     "metadata": {},
     "output_type": "execute_result"
    }
   ],
   "source": [
    "val x = StringUtils.isNullOrEmpty(\"\")    // true"
   ]
  },
  {
   "cell_type": "code",
   "execution_count": 3,
   "id": "93e99360",
   "metadata": {},
   "outputs": [
    {
     "data": {
      "text/plain": [
       "\u001b[36mx\u001b[39m: \u001b[32mBoolean\u001b[39m = \u001b[32mfalse\u001b[39m"
      ]
     },
     "execution_count": 3,
     "metadata": {},
     "output_type": "execute_result"
    }
   ],
   "source": [
    "val x = StringUtils.isNullOrEmpty(\"a\")   // false"
   ]
  },
  {
   "cell_type": "markdown",
   "id": "9f46b92f",
   "metadata": {},
   "source": [
    "**Companion objects**\n",
    "\n",
    "A companion class or object can access the private members of its companion. Use a companion object for methods and values which aren’t specific to instances of the companion class.\n",
    "\n",
    "This example demonstrates how the `area` method in the companion class can access the private `calculateArea` method in its companion object:"
   ]
  },
  {
   "cell_type": "code",
   "execution_count": 4,
   "id": "9e9bf5fb",
   "metadata": {},
   "outputs": [
    {
     "data": {
      "text/plain": [
       "\u001b[32mimport \u001b[39m\u001b[36mscala.math.*\n",
       "\n",
       "\u001b[39m\n",
       "defined \u001b[32mclass\u001b[39m \u001b[36mCircle\u001b[39m\n",
       "defined \u001b[32mobject\u001b[39m \u001b[36mCircle\u001b[39m\n",
       "\u001b[36mcircle1\u001b[39m: \u001b[32mCircle\u001b[39m = ammonite.$sess.cell4$Helper$Circle@44c0d59f\n",
       "\u001b[36mres4_4\u001b[39m: \u001b[32mDouble\u001b[39m = \u001b[32m78.53981633974483\u001b[39m"
      ]
     },
     "execution_count": 4,
     "metadata": {},
     "output_type": "execute_result"
    }
   ],
   "source": [
    "import scala.math.*\n",
    "\n",
    "class Circle(radius: Double):\n",
    "    import Circle.*\n",
    "    def area: Double = calculateArea(radius)\n",
    "\n",
    "object Circle:\n",
    "    private def calculateArea(radius: Double): Double =\n",
    "        Pi * pow(radius, 2.0)\n",
    "\n",
    "val circle1 = Circle(5.0)\n",
    "circle1.area   // Double = 78.53981633974483"
   ]
  },
  {
   "cell_type": "markdown",
   "id": "30f031ae",
   "metadata": {},
   "source": [
    "**Creating modules from traits**\n",
    "\n",
    "Objects can also be used to implement traits to create modules. This technique takes two traits and combines them to create a concrete object:"
   ]
  },
  {
   "cell_type": "code",
   "execution_count": 5,
   "id": "e1845629",
   "metadata": {},
   "outputs": [
    {
     "name": "stdout",
     "output_type": "stream",
     "text": [
      "2\n",
      "4\n"
     ]
    },
    {
     "data": {
      "text/plain": [
       "defined \u001b[32mtrait\u001b[39m \u001b[36mAddService\u001b[39m\n",
       "defined \u001b[32mtrait\u001b[39m \u001b[36mMultiplyService\u001b[39m\n",
       "defined \u001b[32mobject\u001b[39m \u001b[36mMathService\u001b[39m\n",
       "\u001b[32mimport \u001b[39m\u001b[36mMathService.*\n",
       "\u001b[39m"
      ]
     },
     "execution_count": 5,
     "metadata": {},
     "output_type": "execute_result"
    }
   ],
   "source": [
    "trait AddService:\n",
    "    def add(a: Int, b: Int) = a + b\n",
    "\n",
    "trait MultiplyService:\n",
    "    def multiply(a: Int, b: Int) = a * b\n",
    "\n",
    "// implement those traits as a concrete object\n",
    "object MathService extends AddService, MultiplyService\n",
    "\n",
    "// use the object\n",
    "import MathService.*\n",
    "println(add(1,1))        // 2\n",
    "println(multiply(2,2))   // 4"
   ]
  },
  {
   "cell_type": "code",
   "execution_count": null,
   "id": "7b28e675",
   "metadata": {},
   "outputs": [],
   "source": []
  }
 ],
 "metadata": {
  "kernelspec": {
   "display_name": "Scala",
   "language": "scala",
   "name": "scala"
  },
  "language_info": {
   "codemirror_mode": "text/x-scala",
   "file_extension": ".sc",
   "mimetype": "text/x-scala",
   "name": "scala",
   "nbconvert_exporter": "script",
   "version": "2.13.11"
  },
  "latex_envs": {
   "LaTeX_envs_menu_present": true,
   "autoclose": false,
   "autocomplete": true,
   "bibliofile": "biblio.bib",
   "cite_by": "apalike",
   "current_citInitial": 1,
   "eqLabelWithNumbers": true,
   "eqNumInitial": 1,
   "hotkeys": {
    "equation": "Ctrl-E",
    "itemize": "Ctrl-I"
   },
   "labels_anchors": false,
   "latex_user_defs": false,
   "report_style_numbering": false,
   "user_envs_cfg": false
  }
 },
 "nbformat": 4,
 "nbformat_minor": 5
}
