{
 "cells": [
  {
   "cell_type": "markdown",
   "id": "705db0c3",
   "metadata": {},
   "source": [
    "# Collections\n",
    "\n",
    "The Scala library has a rich set of collection classes, and those classes have a rich set of methods. Collections classes are available in both immutable and mutable forms.\n",
    "\n",
    "## 1. Creating lists\n",
    "\n",
    "To give you a taste of how these work, here are some examples that use the `List` class, which is an immutable, linked-list class. These examples show different ways to create a populated `List`:"
   ]
  },
  {
   "cell_type": "code",
   "execution_count": 1,
   "id": "3d85e7ca",
   "metadata": {},
   "outputs": [
    {
     "data": {
      "text/plain": [
       "\u001b[36ma\u001b[39m: \u001b[32mList\u001b[39m[\u001b[32mInt\u001b[39m] = \u001b[33mList\u001b[39m(\u001b[32m1\u001b[39m, \u001b[32m2\u001b[39m, \u001b[32m3\u001b[39m)\n",
       "\u001b[36mb\u001b[39m: \u001b[32mList\u001b[39m[\u001b[32mInt\u001b[39m] = \u001b[33mList\u001b[39m(\u001b[32m1\u001b[39m, \u001b[32m2\u001b[39m, \u001b[32m3\u001b[39m, \u001b[32m4\u001b[39m, \u001b[32m5\u001b[39m)\n",
       "\u001b[36mc\u001b[39m: \u001b[32mList\u001b[39m[\u001b[32mInt\u001b[39m] = \u001b[33mList\u001b[39m(\u001b[32m1\u001b[39m, \u001b[32m3\u001b[39m, \u001b[32m5\u001b[39m, \u001b[32m7\u001b[39m, \u001b[32m9\u001b[39m)\n",
       "\u001b[36me\u001b[39m: \u001b[32mList\u001b[39m[\u001b[32mInt\u001b[39m] = \u001b[33mList\u001b[39m(\u001b[32m1\u001b[39m, \u001b[32m2\u001b[39m, \u001b[32m3\u001b[39m, \u001b[32m4\u001b[39m)\n",
       "\u001b[36mf\u001b[39m: \u001b[32mList\u001b[39m[\u001b[32mInt\u001b[39m] = \u001b[33mList\u001b[39m(\u001b[32m1\u001b[39m, \u001b[32m2\u001b[39m, \u001b[32m3\u001b[39m, \u001b[32m4\u001b[39m)\n",
       "\u001b[36mg\u001b[39m: \u001b[32mList\u001b[39m[\u001b[32mInt\u001b[39m] = \u001b[33mList\u001b[39m(\u001b[32m1\u001b[39m, \u001b[32m4\u001b[39m, \u001b[32m7\u001b[39m)"
      ]
     },
     "execution_count": 1,
     "metadata": {},
     "output_type": "execute_result"
    }
   ],
   "source": [
    "val a = List(1, 2, 3)           // a: List[Int] = List(1, 2, 3)\n",
    "\n",
    "// Range methods\n",
    "val b = (1 to 5).toList         // b: List[Int] = List(1, 2, 3, 4, 5)\n",
    "val c = (1 to 10 by 2).toList   // c: List[Int] = List(1, 3, 5, 7, 9)\n",
    "val e = (1 until 5).toList      // e: List[Int] = List(1, 2, 3, 4)\n",
    "val f = List.range(1, 5)        // f: List[Int] = List(1, 2, 3, 4)\n",
    "val g = List.range(1, 10, 3)    // g: List[Int] = List(1, 4, 7)"
   ]
  },
  {
   "cell_type": "markdown",
   "id": "659c0d98",
   "metadata": {},
   "source": [
    "## 2. List methods\n",
    "Once you have a populated list, the following examples show some of the methods you can call on it. Notice that these are all functional methods, meaning that they don’t mutate the collection they’re called on, but instead return a new collection with the updated elements. The result that’s returned by each expression is shown in the comment on each line:"
   ]
  },
  {
   "cell_type": "code",
   "execution_count": 2,
   "id": "35825f10",
   "metadata": {},
   "outputs": [
    {
     "data": {
      "text/plain": [
       "\u001b[36ma\u001b[39m: \u001b[32mList\u001b[39m[\u001b[32mInt\u001b[39m] = \u001b[33mList\u001b[39m(\u001b[32m10\u001b[39m, \u001b[32m20\u001b[39m, \u001b[32m30\u001b[39m, \u001b[32m40\u001b[39m, \u001b[32m10\u001b[39m)\n",
       "\u001b[36mres2_1\u001b[39m: \u001b[32mList\u001b[39m[\u001b[32mInt\u001b[39m] = \u001b[33mList\u001b[39m(\u001b[32m30\u001b[39m, \u001b[32m40\u001b[39m, \u001b[32m10\u001b[39m)\n",
       "\u001b[36mres2_2\u001b[39m: \u001b[32mList\u001b[39m[\u001b[32mInt\u001b[39m] = \u001b[33mList\u001b[39m(\u001b[32m30\u001b[39m, \u001b[32m40\u001b[39m, \u001b[32m10\u001b[39m)\n",
       "\u001b[36mres2_3\u001b[39m: \u001b[32mList\u001b[39m[\u001b[32mInt\u001b[39m] = \u001b[33mList\u001b[39m(\u001b[32m10\u001b[39m, \u001b[32m20\u001b[39m, \u001b[32m10\u001b[39m)\n",
       "\u001b[36mres2_4\u001b[39m: \u001b[32mList\u001b[39m[\u001b[32mInt\u001b[39m] = \u001b[33mList\u001b[39m(\u001b[32m30\u001b[39m, \u001b[32m40\u001b[39m)\n",
       "\u001b[36mres2_5\u001b[39m: \u001b[32mList\u001b[39m[\u001b[32mInt\u001b[39m] = \u001b[33mList\u001b[39m(\u001b[32m20\u001b[39m, \u001b[32m30\u001b[39m, \u001b[32m40\u001b[39m, \u001b[32m10\u001b[39m)\n",
       "\u001b[36mres2_6\u001b[39m: \u001b[32mList\u001b[39m[\u001b[32mInt\u001b[39m] = \u001b[33mList\u001b[39m(\u001b[32m10\u001b[39m, \u001b[32m20\u001b[39m, \u001b[32m30\u001b[39m)\n",
       "\u001b[36mres2_7\u001b[39m: \u001b[32mList\u001b[39m[\u001b[32mInt\u001b[39m] = \u001b[33mList\u001b[39m(\u001b[32m10\u001b[39m, \u001b[32m20\u001b[39m)"
      ]
     },
     "execution_count": 2,
     "metadata": {},
     "output_type": "execute_result"
    }
   ],
   "source": [
    "// a sample list\n",
    "val a = List(10, 20, 30, 40, 10)      // List(10, 20, 30, 40, 10)\n",
    "\n",
    "a.drop(2)                             // List(30, 40, 10)\n",
    "a.dropWhile(_ < 25)                   // List(30, 40, 10)\n",
    "a.filter(_ < 25)                      // List(10, 20, 10)\n",
    "a.slice(2, 4)                          // List(30, 40)\n",
    "a.tail                                // List(20, 30, 40, 10)\n",
    "a.take(3)                             // List(10, 20, 30)\n",
    "a.takeWhile(_ < 30)                   // List(10, 20)"
   ]
  },
  {
   "cell_type": "code",
   "execution_count": 3,
   "id": "2f57fa95",
   "metadata": {},
   "outputs": [
    {
     "data": {
      "text/plain": [
       "\u001b[36ma\u001b[39m: \u001b[32mList\u001b[39m[\u001b[32mList\u001b[39m[\u001b[32mInt\u001b[39m]] = \u001b[33mList\u001b[39m(\u001b[33mList\u001b[39m(\u001b[32m1\u001b[39m, \u001b[32m2\u001b[39m), \u001b[33mList\u001b[39m(\u001b[32m3\u001b[39m, \u001b[32m4\u001b[39m))\n",
       "\u001b[36mres3_1\u001b[39m: \u001b[32mList\u001b[39m[\u001b[32mInt\u001b[39m] = \u001b[33mList\u001b[39m(\u001b[32m1\u001b[39m, \u001b[32m2\u001b[39m, \u001b[32m3\u001b[39m, \u001b[32m4\u001b[39m)"
      ]
     },
     "execution_count": 3,
     "metadata": {},
     "output_type": "execute_result"
    }
   ],
   "source": [
    "// flatten\n",
    "val a = List(List(1, 2), List(3, 4))\n",
    "a.flatten                             // List(1, 2, 3, 4)"
   ]
  },
  {
   "cell_type": "code",
   "execution_count": 4,
   "id": "3168b6bf",
   "metadata": {},
   "outputs": [
    {
     "data": {
      "text/plain": [
       "\u001b[36mnums\u001b[39m: \u001b[32mList\u001b[39m[\u001b[32mString\u001b[39m] = \u001b[33mList\u001b[39m(\u001b[32m\"one\"\u001b[39m, \u001b[32m\"two\"\u001b[39m)\n",
       "\u001b[36mres4_1\u001b[39m: \u001b[32mList\u001b[39m[\u001b[32mString\u001b[39m] = \u001b[33mList\u001b[39m(\u001b[32m\"ONE\"\u001b[39m, \u001b[32m\"TWO\"\u001b[39m)\n",
       "\u001b[36mres4_2\u001b[39m: \u001b[32mList\u001b[39m[\u001b[32mChar\u001b[39m] = \u001b[33mList\u001b[39m(\u001b[32m'O'\u001b[39m, \u001b[32m'N'\u001b[39m, \u001b[32m'E'\u001b[39m, \u001b[32m'T'\u001b[39m, \u001b[32m'W'\u001b[39m, \u001b[32m'O'\u001b[39m)"
      ]
     },
     "execution_count": 4,
     "metadata": {},
     "output_type": "execute_result"
    }
   ],
   "source": [
    "// map, flatMap\n",
    "val nums = List(\"one\", \"two\")\n",
    "nums.map(_.toUpperCase)               // List(\"ONE\", \"TWO\")\n",
    "nums.flatMap(_.toUpperCase)           // List('O', 'N', 'E', 'T', 'W', 'O')"
   ]
  },
  {
   "cell_type": "markdown",
   "id": "69ef77fe",
   "metadata": {},
   "source": [
    "These examples show how the “foldLeft” and “reduceLeft” methods are used to sum the values in a sequence of integers:"
   ]
  },
  {
   "cell_type": "code",
   "execution_count": 5,
   "id": "d93084a7",
   "metadata": {},
   "outputs": [
    {
     "data": {
      "text/plain": [
       "\u001b[36mfirstTen\u001b[39m: \u001b[32mList\u001b[39m[\u001b[32mInt\u001b[39m] = \u001b[33mList\u001b[39m(\u001b[32m1\u001b[39m, \u001b[32m2\u001b[39m, \u001b[32m3\u001b[39m, \u001b[32m4\u001b[39m, \u001b[32m5\u001b[39m, \u001b[32m6\u001b[39m, \u001b[32m7\u001b[39m, \u001b[32m8\u001b[39m, \u001b[32m9\u001b[39m, \u001b[32m10\u001b[39m)\n",
       "\u001b[36mres5_1\u001b[39m: \u001b[32mInt\u001b[39m = \u001b[32m55\u001b[39m\n",
       "\u001b[36mres5_2\u001b[39m: \u001b[32mInt\u001b[39m = \u001b[32m155\u001b[39m"
      ]
     },
     "execution_count": 5,
     "metadata": {},
     "output_type": "execute_result"
    }
   ],
   "source": [
    "val firstTen = (1 to 10).toList            // List(1, 2, 3, 4, 5, 6, 7, 8, 9, 10)\n",
    "\n",
    "firstTen.reduceLeft(_ + _)                 // 55\n",
    "firstTen.foldLeft(100)(_ + _)              // 155 (100 is a “seed” value)"
   ]
  },
  {
   "cell_type": "markdown",
   "id": "73b5d809",
   "metadata": {},
   "source": [
    "## 3. Tuples\n",
    "The Scala tuple is a type that lets you easily put a collection of different types in the same container. For example, given this Person case class:"
   ]
  },
  {
   "cell_type": "code",
   "execution_count": 6,
   "id": "160c98af",
   "metadata": {},
   "outputs": [
    {
     "data": {
      "text/plain": [
       "defined \u001b[32mclass\u001b[39m \u001b[36mPerson\u001b[39m"
      ]
     },
     "execution_count": 6,
     "metadata": {},
     "output_type": "execute_result"
    }
   ],
   "source": [
    "case class Person(name: String)"
   ]
  },
  {
   "cell_type": "markdown",
   "id": "8a0a8d26",
   "metadata": {},
   "source": [
    "This is how you create a tuple that contains an `Int`, a `tring`, and a custom `Person` value:"
   ]
  },
  {
   "cell_type": "code",
   "execution_count": 7,
   "id": "5090d49f",
   "metadata": {},
   "outputs": [
    {
     "data": {
      "text/plain": [
       "\u001b[36mt\u001b[39m: (\u001b[32mInt\u001b[39m, \u001b[32mString\u001b[39m, \u001b[32mPerson\u001b[39m) = (\u001b[32m11\u001b[39m, \u001b[32m\"eleven\"\u001b[39m, \u001b[33mPerson\u001b[39m(name = \u001b[32m\"Eleven\"\u001b[39m))"
      ]
     },
     "execution_count": 7,
     "metadata": {},
     "output_type": "execute_result"
    }
   ],
   "source": [
    "val t = (11, \"eleven\", Person(\"Eleven\"))"
   ]
  },
  {
   "cell_type": "markdown",
   "id": "b96f9a79",
   "metadata": {},
   "source": [
    "Once you have a tuple, you can access its values by binding them to variables, or access them by number:"
   ]
  },
  {
   "cell_type": "code",
   "execution_count": 8,
   "id": "7056317d",
   "metadata": {},
   "outputs": [
    {
     "data": {
      "text/plain": [
       "\u001b[36mres8_0\u001b[39m: \u001b[32mInt\u001b[39m = \u001b[32m11\u001b[39m\n",
       "\u001b[36mres8_1\u001b[39m: \u001b[32mString\u001b[39m = \u001b[32m\"eleven\"\u001b[39m\n",
       "\u001b[36mres8_2\u001b[39m: \u001b[32mPerson\u001b[39m = \u001b[33mPerson\u001b[39m(name = \u001b[32m\"Eleven\"\u001b[39m)"
      ]
     },
     "execution_count": 8,
     "metadata": {},
     "output_type": "execute_result"
    }
   ],
   "source": [
    "t(0)   // 11\n",
    "t(1)   // \"eleven\"\n",
    "t(2)   // Person(\"Eleven\")"
   ]
  },
  {
   "cell_type": "markdown",
   "id": "3a3470fd",
   "metadata": {},
   "source": [
    "You can also use this extractor approach to assign the tuple fields to variable names:"
   ]
  },
  {
   "cell_type": "code",
   "execution_count": 9,
   "id": "f2ec3de7",
   "metadata": {},
   "outputs": [
    {
     "data": {
      "text/plain": [
       "\u001b[36mnum\u001b[39m: \u001b[32mInt\u001b[39m = \u001b[32m11\u001b[39m\n",
       "\u001b[36mstr\u001b[39m: \u001b[32mString\u001b[39m = \u001b[32m\"eleven\"\u001b[39m\n",
       "\u001b[36mperson\u001b[39m: \u001b[32mPerson\u001b[39m = \u001b[33mPerson\u001b[39m(name = \u001b[32m\"Eleven\"\u001b[39m)"
      ]
     },
     "execution_count": 9,
     "metadata": {},
     "output_type": "execute_result"
    }
   ],
   "source": [
    "val (num, str, person) = t\n",
    "\n",
    "// result:\n",
    "// val num: Int = 11\n",
    "// val str: String = eleven\n",
    "// val person: Person = Person(Eleven)"
   ]
  },
  {
   "cell_type": "code",
   "execution_count": null,
   "id": "ba2d000d",
   "metadata": {},
   "outputs": [],
   "source": []
  }
 ],
 "metadata": {
  "kernelspec": {
   "display_name": "Scala",
   "language": "scala",
   "name": "scala"
  },
  "language_info": {
   "codemirror_mode": "text/x-scala",
   "file_extension": ".sc",
   "mimetype": "text/x-scala",
   "name": "scala",
   "nbconvert_exporter": "script",
   "version": "2.13.11"
  },
  "latex_envs": {
   "LaTeX_envs_menu_present": true,
   "autoclose": false,
   "autocomplete": true,
   "bibliofile": "biblio.bib",
   "cite_by": "apalike",
   "current_citInitial": 1,
   "eqLabelWithNumbers": true,
   "eqNumInitial": 1,
   "hotkeys": {
    "equation": "Ctrl-E",
    "itemize": "Ctrl-I"
   },
   "labels_anchors": false,
   "latex_user_defs": false,
   "report_style_numbering": false,
   "user_envs_cfg": false
  }
 },
 "nbformat": 4,
 "nbformat_minor": 5
}
