{
 "cells": [
  {
   "cell_type": "markdown",
   "id": "ffd2bdb0",
   "metadata": {},
   "source": [
    "# Functional Programing \n",
    "## 1. Immutability:\n",
    "\n",
    "- Functional programming encourages immutability, where variables cannot be changed once assigned.\n",
    "- In Scala, you can declare immutable variables using the val keyword.\n",
    "\n",
    "Example:"
   ]
  },
  {
   "cell_type": "code",
   "execution_count": 1,
   "id": "bbc483d0",
   "metadata": {},
   "outputs": [
    {
     "data": {
      "text/plain": [
       "\u001b[36mx\u001b[39m: \u001b[32mInt\u001b[39m = \u001b[32m5\u001b[39m\n",
       "\u001b[36my\u001b[39m: \u001b[32mInt\u001b[39m = \u001b[32m8\u001b[39m"
      ]
     },
     "execution_count": 1,
     "metadata": {},
     "output_type": "execute_result"
    }
   ],
   "source": [
    "val x = 5\n",
    "val y = x + 3 // This creates a new value, y, instead of modifying x"
   ]
  },
  {
   "cell_type": "markdown",
   "id": "c7a80d9f",
   "metadata": {},
   "source": [
    "## 2. Higher-Order Functions:\n",
    "\n",
    "- Scala supports higher-order functions, which are functions that can take other functions as parameters or return functions.\n",
    "- This allows for function composition and the ability to abstract over behavior.\n",
    "\n",
    "Example:"
   ]
  },
  {
   "cell_type": "code",
   "execution_count": 2,
   "id": "e16d7e76",
   "metadata": {},
   "outputs": [
    {
     "data": {
      "text/plain": [
       "defined \u001b[32mfunction\u001b[39m \u001b[36mapplyTwice\u001b[39m\n",
       "defined \u001b[32mfunction\u001b[39m \u001b[36mincrement\u001b[39m\n",
       "\u001b[36mresult\u001b[39m: \u001b[32mInt\u001b[39m = \u001b[32m5\u001b[39m"
      ]
     },
     "execution_count": 2,
     "metadata": {},
     "output_type": "execute_result"
    }
   ],
   "source": [
    "def applyTwice(f: Int => Int, x: Int): Int = f(f(x))\n",
    "\n",
    "def increment(x: Int): Int = x + 1\n",
    "\n",
    "val result = applyTwice(increment, 3) // Applies increment function twice to 3"
   ]
  },
  {
   "cell_type": "markdown",
   "id": "423a05bd",
   "metadata": {},
   "source": [
    "## 3. Anonymous Functions:\n",
    "\n",
    "- Anonymous functions, also known as function literals or lambdas, allow you to define functions without explicitly naming them.\n",
    "- They are commonly used as arguments to higher-order functions."
   ]
  },
  {
   "cell_type": "code",
   "execution_count": 3,
   "id": "134f055b",
   "metadata": {},
   "outputs": [
    {
     "data": {
      "text/plain": [
       "\u001b[36msquare\u001b[39m: \u001b[32mInt\u001b[39m => \u001b[32mInt\u001b[39m = ammonite.$sess.cell3$Helper$$Lambda$2652/0x000000080177e040@42edf988\n",
       "\u001b[36mresult\u001b[39m: \u001b[32mInt\u001b[39m = \u001b[32m25\u001b[39m"
      ]
     },
     "execution_count": 3,
     "metadata": {},
     "output_type": "execute_result"
    }
   ],
   "source": [
    "val square = (x: Int) => x * x\n",
    "\n",
    "val result = square(5) // Calculates the square of 5 using the anonymous function"
   ]
  },
  {
   "cell_type": "markdown",
   "id": "18a23fce",
   "metadata": {},
   "source": [
    "## 4. Function Composition:\n",
    "\n",
    "- Function composition enables you to combine multiple functions into a single function.\n",
    "- Scala provides the compose and `andThen` methods to compose functions.\n",
    "\n",
    "Example:"
   ]
  },
  {
   "cell_type": "code",
   "execution_count": 4,
   "id": "5041d1a4",
   "metadata": {},
   "outputs": [
    {
     "data": {
      "text/plain": [
       "\u001b[36maddOne\u001b[39m: \u001b[32mInt\u001b[39m => \u001b[32mInt\u001b[39m = ammonite.$sess.cell4$Helper$$Lambda$2660/0x0000000800e3e040@78e57d58\n",
       "\u001b[36mdouble\u001b[39m: \u001b[32mInt\u001b[39m => \u001b[32mInt\u001b[39m = ammonite.$sess.cell4$Helper$$Lambda$2661/0x0000000800e1d040@72ac57ab\n",
       "\u001b[36mcomposed\u001b[39m: \u001b[32mInt\u001b[39m => \u001b[32mInt\u001b[39m = scala.Function1$$Lambda$2662/0x0000000800e1f040@7e22f10e\n",
       "\u001b[36mresult\u001b[39m: \u001b[32mInt\u001b[39m = \u001b[32m8\u001b[39m"
      ]
     },
     "execution_count": 4,
     "metadata": {},
     "output_type": "execute_result"
    }
   ],
   "source": [
    "val addOne = (x: Int) => x + 1\n",
    "val double = (x: Int) => x * 2\n",
    "\n",
    "val composed = addOne.andThen(double) // Composes addOne and double functions\n",
    "\n",
    "val result = composed(3) // Applies addOne andThen double to 3"
   ]
  },
  {
   "cell_type": "markdown",
   "id": "c37c30b7",
   "metadata": {},
   "source": [
    "## 5. Pattern Matching:\n",
    "\n",
    "- Pattern matching is a powerful feature in Scala that allows you to match values against patterns and extract data.\n",
    "- It can be used to replace lengthy if-else structures and simplify code.\n",
    "\n",
    "Example:"
   ]
  },
  {
   "cell_type": "code",
   "execution_count": 6,
   "id": "7373132e",
   "metadata": {},
   "outputs": [
    {
     "data": {
      "text/plain": [
       "defined \u001b[32mfunction\u001b[39m \u001b[36mmatchNumber\u001b[39m\n",
       "\u001b[36mresult\u001b[39m: \u001b[32mString\u001b[39m = \u001b[32m\"Other\"\u001b[39m"
      ]
     },
     "execution_count": 6,
     "metadata": {},
     "output_type": "execute_result"
    }
   ],
   "source": [
    "def matchNumber(num: Int): String = num match \n",
    "  case 0 => \"Zero\"\n",
    "  case 1 => \"One\"\n",
    "  case _ => \"Other\"\n",
    "\n",
    "val result = matchNumber(2) // Matches 2 against patterns and returns \"Other\""
   ]
  },
  {
   "cell_type": "markdown",
   "id": "b61343d1",
   "metadata": {},
   "source": [
    "## 6. Collections and Higher-Order Functions:\n",
    "\n",
    "- Scala provides a rich set of higher-order functions for working with collections, such as `map`, `filter`, `reduce`, etc.\n",
    "- These functions enable concise and expressive data transformations and manipulations.\n",
    "\n",
    "Example:"
   ]
  },
  {
   "cell_type": "code",
   "execution_count": 7,
   "id": "8ae57245",
   "metadata": {},
   "outputs": [
    {
     "data": {
      "text/plain": [
       "\u001b[36mnumbers\u001b[39m: \u001b[32mList\u001b[39m[\u001b[32mInt\u001b[39m] = \u001b[33mList\u001b[39m(\u001b[32m1\u001b[39m, \u001b[32m2\u001b[39m, \u001b[32m3\u001b[39m, \u001b[32m4\u001b[39m, \u001b[32m5\u001b[39m)\n",
       "\u001b[36mdoubled\u001b[39m: \u001b[32mList\u001b[39m[\u001b[32mInt\u001b[39m] = \u001b[33mList\u001b[39m(\u001b[32m2\u001b[39m, \u001b[32m4\u001b[39m, \u001b[32m6\u001b[39m, \u001b[32m8\u001b[39m, \u001b[32m10\u001b[39m)\n",
       "\u001b[36mevenNumbers\u001b[39m: \u001b[32mList\u001b[39m[\u001b[32mInt\u001b[39m] = \u001b[33mList\u001b[39m(\u001b[32m2\u001b[39m, \u001b[32m4\u001b[39m)\n",
       "\u001b[36msum\u001b[39m: \u001b[32mInt\u001b[39m = \u001b[32m15\u001b[39m"
      ]
     },
     "execution_count": 7,
     "metadata": {},
     "output_type": "execute_result"
    }
   ],
   "source": [
    "val numbers = List(1, 2, 3, 4, 5)\n",
    "\n",
    "val doubled = numbers.map(_ * 2) // Doubles each element of the list\n",
    "\n",
    "val evenNumbers = numbers.filter(_ % 2 == 0) // Filters out the even numbers\n",
    "\n",
    "val sum = numbers.reduce(_ + _) // Calculates the sum of all elements"
   ]
  },
  {
   "cell_type": "code",
   "execution_count": null,
   "id": "39907a78",
   "metadata": {},
   "outputs": [],
   "source": []
  }
 ],
 "metadata": {
  "kernelspec": {
   "display_name": "Scala",
   "language": "scala",
   "name": "scala"
  },
  "language_info": {
   "codemirror_mode": "text/x-scala",
   "file_extension": ".sc",
   "mimetype": "text/x-scala",
   "name": "scala",
   "nbconvert_exporter": "script",
   "version": "2.13.11"
  },
  "latex_envs": {
   "LaTeX_envs_menu_present": true,
   "autoclose": false,
   "autocomplete": true,
   "bibliofile": "biblio.bib",
   "cite_by": "apalike",
   "current_citInitial": 1,
   "eqLabelWithNumbers": true,
   "eqNumInitial": 1,
   "hotkeys": {
    "equation": "Ctrl-E",
    "itemize": "Ctrl-I"
   },
   "labels_anchors": false,
   "latex_user_defs": false,
   "report_style_numbering": false,
   "user_envs_cfg": false
  }
 },
 "nbformat": 4,
 "nbformat_minor": 5
}
