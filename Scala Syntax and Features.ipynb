{
 "cells": [
  {
   "cell_type": "markdown",
   "id": "4123e0f4",
   "metadata": {},
   "source": [
    "# Scala Syntax and Features\n",
    "\n",
    "## 1. Case Classes:\n",
    "\n",
    "- Case classes are used for modeling immutable data. They automatically generate useful methods like toString, equals, and hashCode.\n",
    "- Case classes can be pattern matched, making them handy for working with structured data.\n",
    "- Example:"
   ]
  },
  {
   "cell_type": "code",
   "execution_count": 1,
   "id": "1fa3c4ab",
   "metadata": {},
   "outputs": [
    {
     "data": {
      "text/plain": [
       "defined \u001b[32mclass\u001b[39m \u001b[36mPerson\u001b[39m\n",
       "\u001b[36mperson\u001b[39m: \u001b[32mPerson\u001b[39m = \u001b[33mPerson\u001b[39m(name = \u001b[32m\"John\"\u001b[39m, age = \u001b[32m25\u001b[39m)\n",
       "\u001b[36mname\u001b[39m: \u001b[32mString\u001b[39m = \u001b[32m\"John\"\u001b[39m\n",
       "\u001b[36mupdatedPerson\u001b[39m: \u001b[32mPerson\u001b[39m = \u001b[33mPerson\u001b[39m(name = \u001b[32m\"John\"\u001b[39m, age = \u001b[32m26\u001b[39m)"
      ]
     },
     "execution_count": 1,
     "metadata": {},
     "output_type": "execute_result"
    }
   ],
   "source": [
    "case class Person(name: String, age: Int)\n",
    "\n",
    "val person = Person(\"John\", 25)\n",
    "val name = person.name // Accessing fields\n",
    "val updatedPerson = person.copy(age = 26) // Creating a copy with updated age"
   ]
  },
  {
   "cell_type": "markdown",
   "id": "5f65eefb",
   "metadata": {},
   "source": [
    "## 2. Traits:\n",
    "\n",
    "- Traits define interfaces that can be mixed into classes, allowing for multiple inheritance.\n",
    "- Traits can include abstract methods and fields, as well as concrete implementations.\n",
    "- Example:"
   ]
  },
  {
   "cell_type": "code",
   "execution_count": 3,
   "id": "6c024abc",
   "metadata": {},
   "outputs": [
    {
     "name": "stdout",
     "output_type": "stream",
     "text": [
      "I can speak!\n",
      "Hello!\n"
     ]
    },
    {
     "data": {
      "text/plain": [
       "defined \u001b[32mtrait\u001b[39m \u001b[36mSpeaker\u001b[39m\n",
       "defined \u001b[32mclass\u001b[39m \u001b[36mPerson\u001b[39m\n",
       "\u001b[36mperson\u001b[39m: \u001b[32mPerson\u001b[39m = ammonite.$sess.cell3$Helper$Person@64fb3698"
      ]
     },
     "execution_count": 3,
     "metadata": {},
     "output_type": "execute_result"
    }
   ],
   "source": [
    "trait Speaker: \n",
    "    def speak(): Unit // Abstract method\n",
    "    def greet(): Unit = println(\"Hello!\") // Concrete implementation\n",
    "\n",
    "class Person extends Speaker:\n",
    "    def speak(): Unit = println(\"I can speak!\")\n",
    "\n",
    "val person = new Person()\n",
    "person.speak() // \"I can speak!\"\n",
    "person.greet() // \"Hello!\""
   ]
  },
  {
   "cell_type": "markdown",
   "id": "3b9773d1",
   "metadata": {},
   "source": [
    "## 3. Option Types:\n",
    "\n",
    "- Option types are used to handle potentially absent values, helping to avoid null pointer exceptions.\n",
    "- An option can either be Some(value) when a value is present or None when the value is absent.\n",
    "- Example:\n"
   ]
  },
  {
   "cell_type": "code",
   "execution_count": 4,
   "id": "46d9272b",
   "metadata": {},
   "outputs": [
    {
     "data": {
      "text/plain": [
       "\u001b[36mname\u001b[39m: \u001b[32mOption\u001b[39m[\u001b[32mString\u001b[39m] = \u001b[33mSome\u001b[39m(value = \u001b[32m\"John\"\u001b[39m)\n",
       "\u001b[36mage\u001b[39m: \u001b[32mOption\u001b[39m[\u001b[32mInt\u001b[39m] = \u001b[32mNone\u001b[39m\n",
       "\u001b[36mnameLength\u001b[39m: \u001b[32mOption\u001b[39m[\u001b[32mInt\u001b[39m] = \u001b[33mSome\u001b[39m(value = \u001b[32m4\u001b[39m)\n",
       "\u001b[36mdefaultAge\u001b[39m: \u001b[32mInt\u001b[39m = \u001b[32m30\u001b[39m"
      ]
     },
     "execution_count": 4,
     "metadata": {},
     "output_type": "execute_result"
    }
   ],
   "source": [
    "val name: Option[String] = Some(\"John\")\n",
    "val age: Option[Int] = None\n",
    "\n",
    "val nameLength = name.map(_.length) // Maps the length if name is present\n",
    "val defaultAge = age.getOrElse(30) // Retrieves the value or provides a default"
   ]
  },
  {
   "cell_type": "markdown",
   "id": "78b890a8",
   "metadata": {},
   "source": [
    "## 4. Tuples:\n",
    "\n",
    "- Tuples are used to group multiple values into a single value.\n",
    "- Tuples can contain elements of different types and are indexed starting from 1.\n",
    "- Example:"
   ]
  },
  {
   "cell_type": "code",
   "execution_count": 6,
   "id": "cd2d860a",
   "metadata": {},
   "outputs": [
    {
     "data": {
      "text/plain": [
       "\u001b[36mperson\u001b[39m: (\u001b[32mString\u001b[39m, \u001b[32mInt\u001b[39m) = (\u001b[32m\"John\"\u001b[39m, \u001b[32m25\u001b[39m)\n",
       "\u001b[36mname\u001b[39m: \u001b[32mString\u001b[39m = \u001b[32m\"John\"\u001b[39m\n",
       "\u001b[36mage\u001b[39m: \u001b[32mInt\u001b[39m = \u001b[32m25\u001b[39m"
      ]
     },
     "execution_count": 6,
     "metadata": {},
     "output_type": "execute_result"
    }
   ],
   "source": [
    "val person = (\"John\", 25)\n",
    "val name = person._1 // Accessing tuple elements by index\n",
    "val age = person._2"
   ]
  },
  {
   "cell_type": "code",
   "execution_count": 7,
   "id": "37a6aa87",
   "metadata": {},
   "outputs": [
    {
     "data": {
      "text/plain": [
       "\u001b[36mname\u001b[39m: \u001b[32mString\u001b[39m = \u001b[32m\"John\"\u001b[39m\n",
       "\u001b[36mage\u001b[39m: \u001b[32mInt\u001b[39m = \u001b[32m25\u001b[39m"
      ]
     },
     "execution_count": 7,
     "metadata": {},
     "output_type": "execute_result"
    }
   ],
   "source": [
    "val (name, age) = person // Destructuring a tuple into separate variables"
   ]
  },
  {
   "cell_type": "markdown",
   "id": "bd81ff84",
   "metadata": {},
   "source": [
    "## 5. Type Inference:\n",
    "\n",
    "- Scala has powerful type inference capabilities, allowing you to omit explicit type declarations in many cases.\n",
    "- The compiler can infer the types based on the context and the assigned values.\n",
    "- Example:"
   ]
  },
  {
   "cell_type": "code",
   "execution_count": 8,
   "id": "ff532eec",
   "metadata": {},
   "outputs": [
    {
     "data": {
      "text/plain": [
       "\u001b[36mx\u001b[39m: \u001b[32mInt\u001b[39m = \u001b[32m5\u001b[39m\n",
       "\u001b[36my\u001b[39m: \u001b[32mString\u001b[39m = \u001b[32m\"positive\"\u001b[39m"
      ]
     },
     "execution_count": 8,
     "metadata": {},
     "output_type": "execute_result"
    }
   ],
   "source": [
    "val x = 5 // Type inferred as Int\n",
    "val y = if (x > 0) \"positive\" else \"negative\" // Type inferred as String"
   ]
  },
  {
   "cell_type": "markdown",
   "id": "65cacc54",
   "metadata": {},
   "source": [
    "## 6. Implicit Conversions:\n",
    "\n",
    "- Implicit conversions allow automatic conversion between types, providing more flexibility and expressiveness.\n",
    "- Implicit conversions are defined using the implicit keyword and can be triggered automatically by the compiler.\n",
    "- Example:"
   ]
  },
  {
   "cell_type": "code",
   "execution_count": 9,
   "id": "06ad91e4",
   "metadata": {},
   "outputs": [
    {
     "data": {
      "text/plain": [
       "defined \u001b[32mfunction\u001b[39m \u001b[36mintToString\u001b[39m\n",
       "\u001b[36my\u001b[39m: \u001b[32mString\u001b[39m = \u001b[32m\"5\"\u001b[39m"
      ]
     },
     "execution_count": 9,
     "metadata": {},
     "output_type": "execute_result"
    }
   ],
   "source": [
    "implicit def intToString(x: Int): String = x.toString\n",
    "\n",
    "val y: String = 5 // The implicit conversion is applied automatically"
   ]
  },
  {
   "cell_type": "code",
   "execution_count": null,
   "id": "3cecd60a",
   "metadata": {},
   "outputs": [],
   "source": []
  }
 ],
 "metadata": {
  "kernelspec": {
   "display_name": "Scala",
   "language": "scala",
   "name": "scala"
  },
  "language_info": {
   "codemirror_mode": "text/x-scala",
   "file_extension": ".sc",
   "mimetype": "text/x-scala",
   "name": "scala",
   "nbconvert_exporter": "script",
   "version": "2.13.11"
  },
  "latex_envs": {
   "LaTeX_envs_menu_present": true,
   "autoclose": false,
   "autocomplete": true,
   "bibliofile": "biblio.bib",
   "cite_by": "apalike",
   "current_citInitial": 1,
   "eqLabelWithNumbers": true,
   "eqNumInitial": 1,
   "hotkeys": {
    "equation": "Ctrl-E",
    "itemize": "Ctrl-I"
   },
   "labels_anchors": false,
   "latex_user_defs": false,
   "report_style_numbering": false,
   "user_envs_cfg": false
  }
 },
 "nbformat": 4,
 "nbformat_minor": 5
}
